{
 "cells": [
  {
   "cell_type": "markdown",
   "id": "3d1c16f8",
   "metadata": {},
   "source": [
    "# Motivation \n",
    "\n",
    "The purpose of this Notebook is to analyse the test output \n",
    "\n",
    "\n",
    "# Installation requirements\n",
    "\n",
    "* Setup a conda environment with Python >3.11\n",
    "    ```script\n",
    "        conda create --name iCoExpMut_env python=3.11\n",
    "        conda activate iCoExpMut_env\n",
    "    ```\n",
    "* Install graph-tool and other packages via conda-forge\n",
    "    ```script\n",
    "        conda install conda-forge::graph-tool\n",
    "        conda install conda-forge::multiprocess\n",
    "    ```\n",
    "* Install iCoExpNet via pip\n",
    "    ```script\n",
    "        pip install icoexpnet\n",
    "    ```\n"
   ]
  },
  {
   "cell_type": "code",
   "execution_count": 64,
   "id": "e6d80704",
   "metadata": {},
   "outputs": [
    {
     "name": "stdout",
     "output_type": "stream",
     "text": [
      "The autoreload extension is already loaded. To reload it, use:\n",
      "  %reload_ext autoreload\n"
     ]
    }
   ],
   "source": [
    "%load_ext autoreload\n",
    "import warnings\n",
    "warnings.simplefilter(action='ignore', category=FutureWarning)\n",
    "import pandas as pd\n",
    "import numpy as np\n",
    "import numpy as npw\n",
    "import os\n",
    "import sys\n",
    "\n",
    "import plotly.express as px\n",
    "import plotly.io as pio\n",
    "import plotly.graph_objects as go\n",
    "import matplotlib.pyplot as plt\n",
    "\n",
    "import multiprocess as mp\n",
    "\n",
    "\n",
    "# own libraries\n",
    "from icoexpnet.analysis.ExperimentSet import ExperimentSet\n",
    "from icoexpnet.analysis.GraphToolExp import GraphToolExperiment as GtExp\n",
    "from icoexpnet.analysis import GraphHelper as gh\n",
    "from icoexpnet.analysis.utilities import clustering as cs\n",
    "from icoexpnet.analysis.utilities import sankey_consensus_plot as sky\n",
    "from icoexpnet.analysis.utilities.helpers import save_fig, survival_plot\n",
    "\n",
    "pio.templates.default = \"ggplot2\"\n",
    "\n",
    "pool = mp.Pool(mp.cpu_count())"
   ]
  },
  {
   "cell_type": "code",
   "execution_count": 65,
   "id": "120dd050",
   "metadata": {},
   "outputs": [],
   "source": [
    "results_path = \"../../../results/\"\n",
    "data_base = \"../../../data/\"\n",
    "base_path = \"../../../\"\n",
    "test_exps_path = \"results/test/\"\n",
    "test_cltrs_path = \"results/testCtrl/\"\n",
    "\n",
    "figures_path = \"test_results/\"\n",
    "\n",
    "mut_df = pd.read_csv(f\"{data_base}/test_mutation_data.tsv\",\n",
    "                     sep=\"\\t\", index_col=\"gene\")\n",
    "\n",
    "# tf list\n",
    "tf_path = f\"{data_base}/TF_names_v_1.01.txt\"\n",
    "if os.path.exists(tf_path):\n",
    "    tf_list = np.genfromtxt(fname=tf_path, delimiter=\"\\t\",\n",
    "                            skip_header=1, dtype=\"str\")"
   ]
  },
  {
   "cell_type": "markdown",
   "id": "46da33a9",
   "metadata": {},
   "source": [
    "# Load experiments"
   ]
  },
  {
   "cell_type": "code",
   "execution_count": 66,
   "id": "df0bd2ca",
   "metadata": {},
   "outputs": [
    {
     "name": "stdout",
     "output_type": "stream",
     "text": [
      "##### Experiment labels:  dict_keys(['standard_5K_4TF_hsbm', 'standard_5K_3TF_hsbm', 'standard_5K_7TF_hsbm', 'standard_5K_9TF_hsbm', 'standard_5K_5TF_hsbm', 'standard_5K_8TF_hsbm', 'standard_5K_6TF_hsbm'])\n",
      "Loading Graph-Tool for standard_5K_4TF_hsbm\n",
      "Loading Graph-Tool for standard_5K_3TF_hsbm\n",
      "Loading Graph-Tool for standard_5K_7TF_hsbm\n",
      "Loading Graph-Tool for standard_5K_9TF_hsbm\n",
      "Loading Graph-Tool for standard_5K_5TF_hsbm\n",
      "Loading Graph-Tool for standard_5K_8TF_hsbm\n",
      "Loading Graph-Tool for standard_5K_6TF_hsbm\n"
     ]
    }
   ],
   "source": [
    "exp_test = ExperimentSet(\"test\", base_path=base_path, exp_path=test_exps_path,\n",
    "                         mut_df=mut_df, sel_sets=None, exp_type=\"iNet\")\n",
    "\n",
    "exps = {}\n",
    "# Compute some useful metadata for the experiments§\n",
    "for idx, exp in enumerate(exp_test.get_exps()):\n",
    "    if exp.sbm_method != \"hsbm\":  # or idx != 2:\n",
    "        continue\n",
    "\n",
    "    print(f\"Loading Graph-Tool for {exp.type}\")\n",
    "    exps[exp.type] = GtExp.from_pgcna_inet(exp, rel_path=\"\")\n",
    "    exps[exp.type].export_to_gephi(save=False)\n",
    "\n",
    "exp_test.exps = exps"
   ]
  },
  {
   "cell_type": "code",
   "execution_count": 67,
   "id": "79ecc708",
   "metadata": {},
   "outputs": [
    {
     "name": "stdout",
     "output_type": "stream",
     "text": [
      "##### Experiment labels:  dict_keys(['standard_5K_3TF_hsbm', 'standard_5K_4TF_hsbm', 'standard_5K_5TF_hsbm', 'standard_5K_6TF_hsbm', 'standard_5K_7TF_hsbm', 'standard_5K_8TF_hsbm', 'standard_5K_9TF_hsbm'])\n",
      "##### Experiment labels:  dict_keys(['standard_5K_3TF_hsbm', 'standard_5K_5TF_hsbm', 'standard_5K_6TF_hsbm', 'standard_5K_4TF_hsbm', 'standard_5K_7TF_hsbm', 'standard_5K_8TF_hsbm', 'standard_5K_9TF_hsbm'])\n",
      "##### Experiment labels:  dict_keys(['standard_5K_3TF_hsbm', 'standard_5K_4TF_hsbm', 'standard_5K_5TF_hsbm', 'standard_5K_6TF_hsbm', 'standard_5K_7TF_hsbm', 'standard_5K_8TF_hsbm', 'standard_5K_9TF_hsbm'])\n",
      "##### Experiment labels:  dict_keys(['standard_5K_3TF_hsbm', 'standard_5K_4TF_hsbm', 'standard_5K_7TF_hsbm', 'standard_5K_5TF_hsbm', 'standard_5K_9TF_hsbm', 'standard_5K_6TF_hsbm', 'standard_5K_8TF_hsbm'])\n",
      "##### Experiment labels:  dict_keys(['standard_5K_4TF_hsbm', 'standard_5K_3TF_hsbm', 'standard_5K_5TF_hsbm', 'standard_5K_9TF_hsbm', 'standard_5K_6TF_hsbm', 'standard_5K_7TF_hsbm', 'standard_5K_8TF_hsbm'])\n"
     ]
    }
   ],
   "source": [
    "# This gets the list of folders of the control experiments\n",
    "folders = next(os.walk(base_path + test_cltrs_path), (None, None, []))[1]\n",
    "\n",
    "# Create a dictionary of the control experiments where each key is the index of the control\n",
    "test_ctrls = {}\n",
    "for folder in folders:\n",
    "    hCtrl_path = f\"{test_cltrs_path}/{folder}/\"\n",
    "    idx = int(folder.split(\"tctrl_\")[-1])\n",
    "    test_ctrls[idx] = ExperimentSet(\n",
    "        \"tCtrl\", base_path, hCtrl_path, mut_df, sel_sets=None, rel_path=\"../\", exp_type=\"iNet\")\n",
    "    test_ctrls[idx].export_to_gephi(save=False)"
   ]
  },
  {
   "cell_type": "markdown",
   "id": "2d1928bb",
   "metadata": {},
   "source": [
    "# Selective edge pruning\n",
    "\n",
    "\n",
    "Note:\n",
    "- The example only uses hierarchical SBM for non-hierarchical SBM there is a separate method for loading the objects."
   ]
  },
  {
   "cell_type": "code",
   "execution_count": 68,
   "id": "551acadb",
   "metadata": {},
   "outputs": [
    {
     "name": "stdout",
     "output_type": "stream",
     "text": [
      "Loading Graph-Tool for standard_5K_4TF_hsbm\n",
      "Loading Graph-Tool for standard_5K_3TF_hsbm\n",
      "Loading Graph-Tool for standard_5K_7TF_hsbm\n",
      "Loading Graph-Tool for standard_5K_9TF_hsbm\n",
      "Loading Graph-Tool for standard_5K_5TF_hsbm\n",
      "Loading Graph-Tool for standard_5K_8TF_hsbm\n",
      "Loading Graph-Tool for standard_5K_6TF_hsbm\n"
     ]
    }
   ],
   "source": [
    "# Load the hsbm experiments with the real biological TFs\n",
    "h_exps, h_entropy = GtExp.load_hsbm_exps(exp_test)\n",
    "h_entropy[\"Type\"] = \"Experiment\""
   ]
  },
  {
   "cell_type": "code",
   "execution_count": 69,
   "id": "ae0085a6",
   "metadata": {},
   "outputs": [
    {
     "name": "stdout",
     "output_type": "stream",
     "text": [
      "-->Loading control experiment #1\n",
      "Loading Graph-Tool for standard_5K_4TF_hsbm\n",
      "Loading Graph-Tool for standard_5K_3TF_hsbm\n",
      "Loading Graph-Tool for standard_5K_5TF_hsbm\n",
      "Loading Graph-Tool for standard_5K_9TF_hsbm\n",
      "Loading Graph-Tool for standard_5K_6TF_hsbm\n",
      "Loading Graph-Tool for standard_5K_7TF_hsbm\n",
      "Loading Graph-Tool for standard_5K_8TF_hsbm\n",
      "-->Loading control experiment #2\n",
      "Loading Graph-Tool for standard_5K_3TF_hsbm\n",
      "Loading Graph-Tool for standard_5K_4TF_hsbm\n",
      "Loading Graph-Tool for standard_5K_5TF_hsbm\n",
      "Loading Graph-Tool for standard_5K_6TF_hsbm\n",
      "Loading Graph-Tool for standard_5K_7TF_hsbm\n",
      "Loading Graph-Tool for standard_5K_8TF_hsbm\n",
      "Loading Graph-Tool for standard_5K_9TF_hsbm\n",
      "-->Loading control experiment #3\n",
      "Loading Graph-Tool for standard_5K_3TF_hsbm\n",
      "Loading Graph-Tool for standard_5K_5TF_hsbm\n",
      "Loading Graph-Tool for standard_5K_6TF_hsbm\n",
      "Loading Graph-Tool for standard_5K_4TF_hsbm\n",
      "Loading Graph-Tool for standard_5K_7TF_hsbm\n",
      "Loading Graph-Tool for standard_5K_8TF_hsbm\n",
      "Loading Graph-Tool for standard_5K_9TF_hsbm\n",
      "-->Loading control experiment #4\n",
      "Loading Graph-Tool for standard_5K_3TF_hsbm\n",
      "Loading Graph-Tool for standard_5K_4TF_hsbm\n",
      "Loading Graph-Tool for standard_5K_5TF_hsbm\n",
      "Loading Graph-Tool for standard_5K_6TF_hsbm\n",
      "Loading Graph-Tool for standard_5K_7TF_hsbm\n",
      "Loading Graph-Tool for standard_5K_8TF_hsbm\n",
      "Loading Graph-Tool for standard_5K_9TF_hsbm\n",
      "-->Loading control experiment #5\n",
      "Loading Graph-Tool for standard_5K_3TF_hsbm\n",
      "Loading Graph-Tool for standard_5K_4TF_hsbm\n",
      "Loading Graph-Tool for standard_5K_7TF_hsbm\n",
      "Loading Graph-Tool for standard_5K_5TF_hsbm\n",
      "Loading Graph-Tool for standard_5K_9TF_hsbm\n",
      "Loading Graph-Tool for standard_5K_6TF_hsbm\n",
      "Loading Graph-Tool for standard_5K_8TF_hsbm\n"
     ]
    }
   ],
   "source": [
    "# Load the hCtrl experiments with control TFs\n",
    "ctrl_exps, cmb_df = {}, pd.DataFrame()\n",
    "\n",
    "# Iterate over the control experiments\n",
    "for key in range(1, len(test_ctrls)+1, 1):\n",
    "    print(f\"-->Loading control experiment #{key}\")\n",
    "    exps, entropy = GtExp.load_hsbm_exps(test_ctrls[key])\n",
    "    entropy[\"Type\"] = \"hCtrl{}\".format(key)\n",
    "    cmb_df = pd.concat([cmb_df, entropy], axis=0)\n",
    "    ctrl_exps[key] = {\"entropy\": entropy, \"exps\": exps}"
   ]
  },
  {
   "cell_type": "markdown",
   "id": "aa40f4e8",
   "metadata": {},
   "source": [
    "# Analyse the entropy of the controls and experiments"
   ]
  },
  {
   "cell_type": "code",
   "execution_count": 70,
   "id": "96a0c002",
   "metadata": {},
   "outputs": [],
   "source": [
    "# Combine the entropy of the the control networks and the real experiments\n",
    "cmb_df = pd.concat([cmb_df, h_entropy], axis=0)\n",
    "cmb_df[\"Entropy_norm\"] = (cmb_df[\"Entropy\"] - cmb_df[\"Entropy\"].min()) / \\\n",
    "    (cmb_df[\"Entropy\"].max() - cmb_df[\"Entropy\"].min())\n",
    "cmb_df[\"Entropy_log10\"] = np.log10(cmb_df[\"Entropy\"])"
   ]
  },
  {
   "cell_type": "markdown",
   "id": "bf561445",
   "metadata": {},
   "source": [
    "## Plot the Entropy Evolution across the networks\n",
    "\n",
    "We look at how the community detections performs across the different networks generated as the #degree is increased"
   ]
  },
  {
   "cell_type": "code",
   "execution_count": 71,
   "id": "2dc6cb31",
   "metadata": {},
   "outputs": [],
   "source": [
    "# Find the network with top model\n",
    "top_exp, color_map = [], {}\n",
    "for exp in cmb_df[\"Type\"].unique():\n",
    "    sel_df = cmb_df[cmb_df[\"Type\"] == exp]\n",
    "    for tf in sel_df[\"TF\"].unique():\n",
    "        tst_df = sel_df[sel_df[\"TF\"] == tf].sort_values(\n",
    "            by=\"Entropy\", ascending=False).values[0]\n",
    "        top_exp.append(tst_df)\n",
    "\n",
    "    color_map[exp] = px.colors.qualitative.Plotly[0]\n",
    "    if exp == \"Experiment\":\n",
    "        color_map[exp] = px.colors.qualitative.Plotly[2]\n",
    "\n",
    "top_exp = pd.DataFrame(\n",
    "    top_exp, columns=[\"Entropy\", \"TF\", \"Type\", \"Entropy_norm\", \"Entropy_log\"])\n",
    "\n",
    "# Compute stats\n",
    "stats_vals = []\n",
    "for tf in top_exp[\"TF\"].unique():\n",
    "    sel_df = top_exp[top_exp[\"TF\"] == tf]\n",
    "    sel_df_ctrl = sel_df[sel_df[\"Type\"].str.contains(\"hCtrl\")][\"Entropy\"]\n",
    "    sel_df_exp = sel_df[~sel_df[\"Type\"].str.contains(\n",
    "        \"hCtrl\")][\"Entropy\"].values[0]\n",
    "    stats_vals.append((sel_df_ctrl.median(), sel_df_ctrl.mean(),\n",
    "                      sel_df_ctrl.std(), tf, \"Control\"))\n",
    "    stats_vals.append((sel_df_exp, sel_df_exp, 0, tf, \"Experiment\"))"
   ]
  },
  {
   "cell_type": "code",
   "execution_count": 72,
   "id": "3922845e",
   "metadata": {},
   "outputs": [
    {
     "data": {
      "application/vnd.plotly.v1+json": {
       "config": {
        "plotlyServerURL": "https://plot.ly"
       },
       "data": [
        {
         "error_y": {
          "array": {
           "bdata": "gDlCLtzIxD35TWQ0g2/BPc07f2aeoKY9+U1kNINv0T0AAAAAAACwPfNZYUQr2Lw9hR4VuY5Uwj0=",
           "dtype": "f8"
          },
          "width": 8
         },
         "hovertemplate": "Type=Control<br>TF=%{x}<br>Mean_Ent=%{y}<extra></extra>",
         "legendgroup": "Control",
         "marker": {
          "color": "#DC3912",
          "size": 8,
          "symbol": "circle"
         },
         "mode": "markers",
         "name": "Control",
         "orientation": "v",
         "showlegend": true,
         "type": "scatter",
         "x": {
          "bdata": "BAMFCQYHCA==",
          "dtype": "i1"
         },
         "xaxis": "x",
         "y": {
          "bdata": "kkPxsoPT80AFCebTl4vzQO6GOZFTJvRARbfrBF6b9UDYe+Ugf370QEYetGHo4PRApu9Erlg89UA=",
          "dtype": "f8"
         },
         "yaxis": "y"
        },
        {
         "error_y": {
          "array": {
           "bdata": "AAAAAAAAAAAAAAAAAAAAAAAAAAAAAAAAAAAAAAAAAAAAAAAAAAAAAAAAAAAAAAAAAAAAAAAAAAA=",
           "dtype": "f8"
          }
         },
         "hovertemplate": "Type=Experiment<br>TF=%{x}<br>Mean_Ent=%{y}<extra></extra>",
         "legendgroup": "Experiment",
         "marker": {
          "color": "#3366CC",
          "symbol": "circle"
         },
         "mode": "markers",
         "name": "Experiment",
         "orientation": "v",
         "showlegend": true,
         "type": "scatter",
         "x": {
          "bdata": "BAMFCQYHCA==",
          "dtype": "i1"
         },
         "xaxis": "x",
         "y": {
          "bdata": "kkPxsoPT80ADCebTl4vzQO6GOZFTJvRATbfrBF6b9UDYe+Ugf370QEYetGHo4PRApe9Erlg89UA=",
          "dtype": "f8"
         },
         "yaxis": "y"
        }
       ],
       "layout": {
        "font": {
         "size": 16
        },
        "height": 600,
        "legend": {
         "bgcolor": "rgba(0,0,0,0)",
         "font": {
          "color": "#003366",
          "size": 16
         },
         "orientation": "h",
         "title": {
          "text": "SBM"
         },
         "tracegroupgap": 0,
         "x": 0.5,
         "xanchor": "center",
         "y": 0.87,
         "yanchor": "bottom"
        },
        "template": {
         "data": {
          "bar": [
           {
            "error_x": {
             "color": "rgb(51,51,51)"
            },
            "error_y": {
             "color": "rgb(51,51,51)"
            },
            "marker": {
             "line": {
              "color": "rgb(237,237,237)",
              "width": 0.5
             },
             "pattern": {
              "fillmode": "overlay",
              "size": 10,
              "solidity": 0.2
             }
            },
            "type": "bar"
           }
          ],
          "barpolar": [
           {
            "marker": {
             "line": {
              "color": "rgb(237,237,237)",
              "width": 0.5
             },
             "pattern": {
              "fillmode": "overlay",
              "size": 10,
              "solidity": 0.2
             }
            },
            "type": "barpolar"
           }
          ],
          "carpet": [
           {
            "aaxis": {
             "endlinecolor": "rgb(51,51,51)",
             "gridcolor": "white",
             "linecolor": "white",
             "minorgridcolor": "white",
             "startlinecolor": "rgb(51,51,51)"
            },
            "baxis": {
             "endlinecolor": "rgb(51,51,51)",
             "gridcolor": "white",
             "linecolor": "white",
             "minorgridcolor": "white",
             "startlinecolor": "rgb(51,51,51)"
            },
            "type": "carpet"
           }
          ],
          "choropleth": [
           {
            "colorbar": {
             "outlinewidth": 0,
             "tickcolor": "rgb(237,237,237)",
             "ticklen": 6,
             "ticks": "inside"
            },
            "type": "choropleth"
           }
          ],
          "contour": [
           {
            "colorbar": {
             "outlinewidth": 0,
             "tickcolor": "rgb(237,237,237)",
             "ticklen": 6,
             "ticks": "inside"
            },
            "colorscale": [
             [
              0,
              "rgb(20,44,66)"
             ],
             [
              1,
              "rgb(90,179,244)"
             ]
            ],
            "type": "contour"
           }
          ],
          "contourcarpet": [
           {
            "colorbar": {
             "outlinewidth": 0,
             "tickcolor": "rgb(237,237,237)",
             "ticklen": 6,
             "ticks": "inside"
            },
            "type": "contourcarpet"
           }
          ],
          "heatmap": [
           {
            "colorbar": {
             "outlinewidth": 0,
             "tickcolor": "rgb(237,237,237)",
             "ticklen": 6,
             "ticks": "inside"
            },
            "colorscale": [
             [
              0,
              "rgb(20,44,66)"
             ],
             [
              1,
              "rgb(90,179,244)"
             ]
            ],
            "type": "heatmap"
           }
          ],
          "histogram": [
           {
            "marker": {
             "pattern": {
              "fillmode": "overlay",
              "size": 10,
              "solidity": 0.2
             }
            },
            "type": "histogram"
           }
          ],
          "histogram2d": [
           {
            "colorbar": {
             "outlinewidth": 0,
             "tickcolor": "rgb(237,237,237)",
             "ticklen": 6,
             "ticks": "inside"
            },
            "colorscale": [
             [
              0,
              "rgb(20,44,66)"
             ],
             [
              1,
              "rgb(90,179,244)"
             ]
            ],
            "type": "histogram2d"
           }
          ],
          "histogram2dcontour": [
           {
            "colorbar": {
             "outlinewidth": 0,
             "tickcolor": "rgb(237,237,237)",
             "ticklen": 6,
             "ticks": "inside"
            },
            "colorscale": [
             [
              0,
              "rgb(20,44,66)"
             ],
             [
              1,
              "rgb(90,179,244)"
             ]
            ],
            "type": "histogram2dcontour"
           }
          ],
          "mesh3d": [
           {
            "colorbar": {
             "outlinewidth": 0,
             "tickcolor": "rgb(237,237,237)",
             "ticklen": 6,
             "ticks": "inside"
            },
            "type": "mesh3d"
           }
          ],
          "parcoords": [
           {
            "line": {
             "colorbar": {
              "outlinewidth": 0,
              "tickcolor": "rgb(237,237,237)",
              "ticklen": 6,
              "ticks": "inside"
             }
            },
            "type": "parcoords"
           }
          ],
          "pie": [
           {
            "automargin": true,
            "type": "pie"
           }
          ],
          "scatter": [
           {
            "fillpattern": {
             "fillmode": "overlay",
             "size": 10,
             "solidity": 0.2
            },
            "type": "scatter"
           }
          ],
          "scatter3d": [
           {
            "line": {
             "colorbar": {
              "outlinewidth": 0,
              "tickcolor": "rgb(237,237,237)",
              "ticklen": 6,
              "ticks": "inside"
             }
            },
            "marker": {
             "colorbar": {
              "outlinewidth": 0,
              "tickcolor": "rgb(237,237,237)",
              "ticklen": 6,
              "ticks": "inside"
             }
            },
            "type": "scatter3d"
           }
          ],
          "scattercarpet": [
           {
            "marker": {
             "colorbar": {
              "outlinewidth": 0,
              "tickcolor": "rgb(237,237,237)",
              "ticklen": 6,
              "ticks": "inside"
             }
            },
            "type": "scattercarpet"
           }
          ],
          "scattergeo": [
           {
            "marker": {
             "colorbar": {
              "outlinewidth": 0,
              "tickcolor": "rgb(237,237,237)",
              "ticklen": 6,
              "ticks": "inside"
             }
            },
            "type": "scattergeo"
           }
          ],
          "scattergl": [
           {
            "marker": {
             "colorbar": {
              "outlinewidth": 0,
              "tickcolor": "rgb(237,237,237)",
              "ticklen": 6,
              "ticks": "inside"
             }
            },
            "type": "scattergl"
           }
          ],
          "scattermap": [
           {
            "marker": {
             "colorbar": {
              "outlinewidth": 0,
              "tickcolor": "rgb(237,237,237)",
              "ticklen": 6,
              "ticks": "inside"
             }
            },
            "type": "scattermap"
           }
          ],
          "scattermapbox": [
           {
            "marker": {
             "colorbar": {
              "outlinewidth": 0,
              "tickcolor": "rgb(237,237,237)",
              "ticklen": 6,
              "ticks": "inside"
             }
            },
            "type": "scattermapbox"
           }
          ],
          "scatterpolar": [
           {
            "marker": {
             "colorbar": {
              "outlinewidth": 0,
              "tickcolor": "rgb(237,237,237)",
              "ticklen": 6,
              "ticks": "inside"
             }
            },
            "type": "scatterpolar"
           }
          ],
          "scatterpolargl": [
           {
            "marker": {
             "colorbar": {
              "outlinewidth": 0,
              "tickcolor": "rgb(237,237,237)",
              "ticklen": 6,
              "ticks": "inside"
             }
            },
            "type": "scatterpolargl"
           }
          ],
          "scatterternary": [
           {
            "marker": {
             "colorbar": {
              "outlinewidth": 0,
              "tickcolor": "rgb(237,237,237)",
              "ticklen": 6,
              "ticks": "inside"
             }
            },
            "type": "scatterternary"
           }
          ],
          "surface": [
           {
            "colorbar": {
             "outlinewidth": 0,
             "tickcolor": "rgb(237,237,237)",
             "ticklen": 6,
             "ticks": "inside"
            },
            "colorscale": [
             [
              0,
              "rgb(20,44,66)"
             ],
             [
              1,
              "rgb(90,179,244)"
             ]
            ],
            "type": "surface"
           }
          ],
          "table": [
           {
            "cells": {
             "fill": {
              "color": "rgb(237,237,237)"
             },
             "line": {
              "color": "white"
             }
            },
            "header": {
             "fill": {
              "color": "rgb(217,217,217)"
             },
             "line": {
              "color": "white"
             }
            },
            "type": "table"
           }
          ]
         },
         "layout": {
          "annotationdefaults": {
           "arrowhead": 0,
           "arrowwidth": 1
          },
          "autotypenumbers": "strict",
          "coloraxis": {
           "colorbar": {
            "outlinewidth": 0,
            "tickcolor": "rgb(237,237,237)",
            "ticklen": 6,
            "ticks": "inside"
           }
          },
          "colorscale": {
           "sequential": [
            [
             0,
             "rgb(20,44,66)"
            ],
            [
             1,
             "rgb(90,179,244)"
            ]
           ],
           "sequentialminus": [
            [
             0,
             "rgb(20,44,66)"
            ],
            [
             1,
             "rgb(90,179,244)"
            ]
           ]
          },
          "colorway": [
           "#F8766D",
           "#A3A500",
           "#00BF7D",
           "#00B0F6",
           "#E76BF3"
          ],
          "font": {
           "color": "rgb(51,51,51)"
          },
          "geo": {
           "bgcolor": "white",
           "lakecolor": "white",
           "landcolor": "rgb(237,237,237)",
           "showlakes": true,
           "showland": true,
           "subunitcolor": "white"
          },
          "hoverlabel": {
           "align": "left"
          },
          "hovermode": "closest",
          "paper_bgcolor": "white",
          "plot_bgcolor": "rgb(237,237,237)",
          "polar": {
           "angularaxis": {
            "gridcolor": "white",
            "linecolor": "white",
            "showgrid": true,
            "tickcolor": "rgb(51,51,51)",
            "ticks": "outside"
           },
           "bgcolor": "rgb(237,237,237)",
           "radialaxis": {
            "gridcolor": "white",
            "linecolor": "white",
            "showgrid": true,
            "tickcolor": "rgb(51,51,51)",
            "ticks": "outside"
           }
          },
          "scene": {
           "xaxis": {
            "backgroundcolor": "rgb(237,237,237)",
            "gridcolor": "white",
            "gridwidth": 2,
            "linecolor": "white",
            "showbackground": true,
            "showgrid": true,
            "tickcolor": "rgb(51,51,51)",
            "ticks": "outside",
            "zerolinecolor": "white"
           },
           "yaxis": {
            "backgroundcolor": "rgb(237,237,237)",
            "gridcolor": "white",
            "gridwidth": 2,
            "linecolor": "white",
            "showbackground": true,
            "showgrid": true,
            "tickcolor": "rgb(51,51,51)",
            "ticks": "outside",
            "zerolinecolor": "white"
           },
           "zaxis": {
            "backgroundcolor": "rgb(237,237,237)",
            "gridcolor": "white",
            "gridwidth": 2,
            "linecolor": "white",
            "showbackground": true,
            "showgrid": true,
            "tickcolor": "rgb(51,51,51)",
            "ticks": "outside",
            "zerolinecolor": "white"
           }
          },
          "shapedefaults": {
           "fillcolor": "black",
           "line": {
            "width": 0
           },
           "opacity": 0.3
          },
          "ternary": {
           "aaxis": {
            "gridcolor": "white",
            "linecolor": "white",
            "showgrid": true,
            "tickcolor": "rgb(51,51,51)",
            "ticks": "outside"
           },
           "baxis": {
            "gridcolor": "white",
            "linecolor": "white",
            "showgrid": true,
            "tickcolor": "rgb(51,51,51)",
            "ticks": "outside"
           },
           "bgcolor": "rgb(237,237,237)",
           "caxis": {
            "gridcolor": "white",
            "linecolor": "white",
            "showgrid": true,
            "tickcolor": "rgb(51,51,51)",
            "ticks": "outside"
           }
          },
          "xaxis": {
           "automargin": true,
           "gridcolor": "white",
           "linecolor": "white",
           "showgrid": true,
           "tickcolor": "rgb(51,51,51)",
           "ticks": "outside",
           "title": {
            "standoff": 15
           },
           "zerolinecolor": "white"
          },
          "yaxis": {
           "automargin": true,
           "gridcolor": "white",
           "linecolor": "white",
           "showgrid": true,
           "tickcolor": "rgb(51,51,51)",
           "ticks": "outside",
           "title": {
            "standoff": 15
           },
           "zerolinecolor": "white"
          }
         }
        },
        "title": {
         "text": ""
        },
        "xaxis": {
         "anchor": "y",
         "domain": [
          0,
          1
         ],
         "tickfont": {
          "size": 16
         },
         "tickmode": "array",
         "tickvals": [
          3,
          4,
          5,
          6,
          7,
          8,
          9,
          10,
          11,
          12,
          13,
          14,
          15
         ],
         "title": {
          "text": "Minimum degree for selected genes"
         }
        },
        "yaxis": {
         "anchor": "x",
         "domain": [
          0,
          1
         ],
         "tickfont": {
          "size": 16
         },
         "title": {
          "text": "Entropy"
         }
        }
       }
      }
     },
     "metadata": {},
     "output_type": "display_data"
    }
   ],
   "source": [
    "top_df = pd.DataFrame(stats_vals, columns=[\n",
    "                      \"Median_Ent\", \"Mean_Ent\", \"Std_Ent\", \"TF\", \"Type\"])\n",
    "\n",
    "color_map = {\n",
    "    \"Experiment\": px.colors.qualitative.G10[0], \"Control\": px.colors.qualitative.G10[1]}\n",
    "fig = px.scatter(\n",
    "    top_df,\n",
    "    y=\"Mean_Ent\",\n",
    "    x=\"TF\",\n",
    "    error_y=\"Std_Ent\",\n",
    "    color=\"Type\",\n",
    "    title=\"Entropy evolution TFs 3-15. Standard 5K\",\n",
    "    height=600,\n",
    "    color_discrete_map=color_map,\n",
    ")\n",
    "\n",
    "fig.update_layout(\n",
    "    legend=dict(\n",
    "        orientation=\"h\",\n",
    "        title=\"SBM\",\n",
    "        yanchor=\"bottom\",\n",
    "        y=0.87,\n",
    "        xanchor=\"center\",\n",
    "        x=0.5,\n",
    "        bgcolor=\"rgba(0,0,0,0)\",\n",
    "        font=dict(size=16, color=\"#003366\"),\n",
    "    ),\n",
    "    title=\"\",\n",
    "    xaxis=dict(\n",
    "        tickfont=dict(size=16),\n",
    "        title=\"Minimum degree for selected genes\",\n",
    "        tickmode=\"array\", tickvals=list(range(3, 16, 1))\n",
    "    ),\n",
    "    yaxis=dict(\n",
    "        tickfont=dict(size=16),\n",
    "        title=\"Entropy\",\n",
    "    ),\n",
    "    font=dict(size=16),\n",
    ")\n",
    "fig.update_traces(error_y=dict(width=8), selector=(\n",
    "    {\"name\": \"Control\"}), marker_size=8)\n",
    "fig.show()"
   ]
  },
  {
   "cell_type": "markdown",
   "id": "bc170a93",
   "metadata": {},
   "source": [
    "# Leiden and SBM comparison"
   ]
  },
  {
   "cell_type": "code",
   "execution_count": 73,
   "id": "9ded2bcb",
   "metadata": {},
   "outputs": [],
   "source": [
    "def prep_leiden(exp: ExperimentSet, label=\"Experiment\"):\n",
    "    leid_stats = exp.comb_leiden_scores()\n",
    "    leid_stats = leid_stats.loc[leid_stats[\"Modifier\"] == \"Standard\"]\n",
    "    leid_stats[\"Type\"] = label\n",
    "\n",
    "    sel_cols = [\"Leiden Rank\", \"ModularityScore\", \"ModuleNum\",\n",
    "                \"AvgModSize\", \"Modifier\", \"Type\", \"TF\", \"AvgModuleNum\"]\n",
    "\n",
    "    return leid_stats[sel_cols]\n",
    "\n",
    "\n",
    "def tf_stats(ctrls_df: pd.DataFrame, exp_df: pd.DataFrame):\n",
    "    for tf in ctrls_df[\"TF\"].unique():\n",
    "        sel_df = ctrls_df[ctrls_df[\"TF\"] == tf]\n",
    "        sel_df_exp = exp_df[exp_df[\"TF\"] == tf]\n",
    "\n",
    "        r_field = {\"ModularityScore\": \"Mod\",\n",
    "                   \"AvgModuleNum\": \"ModNum\", \"AvgModSize\": \"ModSize\"}\n",
    "        for field in [\"ModularityScore\", \"AvgModuleNum\", \"AvgModSize\"]:\n",
    "            ctrls_df.loc[ctrls_df[\"TF\"] == tf, \"{}_median\".format(\n",
    "                r_field[field])] = sel_df[field].median(axis=0)\n",
    "            ctrls_df.loc[ctrls_df[\"TF\"] == tf, \"{}_mean\".format(\n",
    "                r_field[field])] = sel_df[field].mean(axis=0)\n",
    "            ctrls_df.loc[ctrls_df[\"TF\"] == tf, \"{}_std\".format(\n",
    "                r_field[field])] = sel_df[field].std(axis=0)\n",
    "\n",
    "            exp_df.loc[exp_df[\"TF\"] == tf, \"{}_median\".format(\n",
    "                r_field[field])] = sel_df_exp[field].median(axis=0)\n",
    "            exp_df.loc[exp_df[\"TF\"] == tf, \"{}_mean\".format(\n",
    "                r_field[field])] = sel_df_exp[field].mean(axis=0)\n",
    "            exp_df.loc[exp_df[\"TF\"] == tf, \"{}_std\".format(\n",
    "                r_field[field])] = sel_df_exp[field].std(axis=0)\n",
    "\n",
    "    ctrls_df[\"Type\"] = \"Control\"\n",
    "    comb_leiden = pd.concat([ctrls_df, exp_df], axis=0)\n",
    "    comb_leiden[\"TF\"] = comb_leiden[\"TF\"].astype(int)\n",
    "    comb_leiden = comb_leiden[comb_leiden[\"TF\"] <= 15]\n",
    "    comb_leiden.sort_values(by=\"TF\", ascending=True, inplace=True)\n",
    "    comb_leiden[\"TF\"] = comb_leiden[\"TF\"].astype(str)\n",
    "\n",
    "    return comb_leiden"
   ]
  },
  {
   "cell_type": "code",
   "execution_count": 74,
   "id": "2f3d918d",
   "metadata": {},
   "outputs": [],
   "source": [
    "leid_h = prep_leiden(exp_test, label=\"Experiment\")\n",
    "\n",
    "leid_ctrls = []\n",
    "for idx in range(1, len(test_ctrls), 1):\n",
    "    df = prep_leiden(test_ctrls[idx], label=\"hCtrl{}\".format(idx))\n",
    "    leid_ctrls.append(df)\n",
    "\n",
    "all_leid_ctrls = pd.concat(leid_ctrls, axis=0)\n",
    "top_leid_ctrls = all_leid_ctrls[all_leid_ctrls[\"Leiden Rank\"] == 0]"
   ]
  },
  {
   "cell_type": "markdown",
   "id": "a7c74222",
   "metadata": {},
   "source": [
    "## Compare the metrics between the two community detection methods"
   ]
  },
  {
   "cell_type": "code",
   "execution_count": 75,
   "id": "6b90bf4f",
   "metadata": {},
   "outputs": [
    {
     "data": {
      "application/vnd.plotly.v1+json": {
       "config": {
        "plotlyServerURL": "https://plot.ly"
       },
       "data": [
        {
         "error_y": {
          "array": {
           "bdata": "pyWyXcHBSj+nJbJdwcFKP6clsl3BwUo/pyWyXcHBSj9tZ3g5gGRTP21neDmAZFM/bWd4OYBkUz9tZ3g5gGRTP+NlxXTvGkg/42XFdO8aSD/jZcV07xpIP+NlxXTvGkg/p6fWQ0THQD+np9ZDRMdAP6en1kNEx0A/p6fWQ0THQD+S76MjBAxQP5LvoyMEDFA/ku+jIwQMUD+S76MjBAxQP0XEiqvv0kc/RcSKq+/SRz9FxIqr79JHP0XEiqvv0kc/l+WlFLGyLT+X5aUUsbItP5flpRSxsi0/l+WlFLGyLT8=",
           "dtype": "f8"
          },
          "width": 5
         },
         "hovertemplate": "Type=Control<br>TF=%{x}<br>Mod_mean=%{y}<extra></extra>",
         "legendgroup": "Control",
         "line": {
          "color": "#DC3912",
          "dash": "solid",
          "width": 5
         },
         "marker": {
          "size": 12,
          "symbol": "circle"
         },
         "mode": "lines+markers",
         "name": "Control",
         "orientation": "v",
         "showlegend": true,
         "type": "scatter",
         "x": [
          "3",
          "3",
          "3",
          "3",
          "4",
          "4",
          "4",
          "4",
          "5",
          "5",
          "5",
          "5",
          "6",
          "6",
          "6",
          "6",
          "7",
          "7",
          "7",
          "7",
          "8",
          "8",
          "8",
          "8",
          "9",
          "9",
          "9",
          "9"
         ],
         "xaxis": "x",
         "y": {
          "bdata": "F38B73AG4j8XfwHvcAbiPxd/Ae9wBuI/F38B73AG4j+qiwZLHN7hP6qLBksc3uE/qosGSxze4T+qiwZLHN7hP6M9qT52pOE/oz2pPnak4T+jPak+dqThP6M9qT52pOE/32ebJIVh4T/fZ5skhWHhP99nmySFYeE/32ebJIVh4T/1pjP9rCXhP/WmM/2sJeE/9aYz/awl4T/1pjP9rCXhP3r99z+H8+A/ev33P4fz4D96/fc/h/PgP3r99z+H8+A/0lWTVO6v4D/SVZNU7q/gP9JVk1Tur+A/0lWTVO6v4D8=",
          "dtype": "f8"
         },
         "yaxis": "y"
        },
        {
         "error_y": {
          "array": {
           "bdata": "AAAAAAAA+H8AAAAAAAD4fwAAAAAAAPh/AAAAAAAA+H8AAAAAAAD4fwAAAAAAAPh/AAAAAAAA+H8=",
           "dtype": "f8"
          },
          "width": 5
         },
         "hovertemplate": "Type=Experiment<br>TF=%{x}<br>Mod_mean=%{y}<extra></extra>",
         "legendgroup": "Experiment",
         "line": {
          "color": "#3366CC",
          "dash": "solid",
          "width": 5
         },
         "marker": {
          "size": 12,
          "symbol": "circle"
         },
         "mode": "lines+markers",
         "name": "Experiment",
         "orientation": "v",
         "showlegend": true,
         "type": "scatter",
         "x": [
          "3",
          "4",
          "5",
          "6",
          "7",
          "8",
          "9"
         ],
         "xaxis": "x",
         "y": {
          "bdata": "MHnDwFUG4j8oGcun2N7hP6jrM2rrz+E/NrHarkZl4T9BPmcfDTHhPyZVUe4T9+A/hsE4dWy34D8=",
          "dtype": "f8"
         },
         "yaxis": "y"
        }
       ],
       "layout": {
        "font": {
         "size": 16
        },
        "height": 600,
        "legend": {
         "bgcolor": "rgba(0,0,0,0)",
         "font": {
          "color": "#003366",
          "size": 16
         },
         "orientation": "h",
         "title": {
          "text": "Leiden"
         },
         "tracegroupgap": 0,
         "x": 0.5,
         "xanchor": "center",
         "y": 0.87,
         "yanchor": "bottom"
        },
        "template": {
         "data": {
          "bar": [
           {
            "error_x": {
             "color": "rgb(51,51,51)"
            },
            "error_y": {
             "color": "rgb(51,51,51)"
            },
            "marker": {
             "line": {
              "color": "rgb(237,237,237)",
              "width": 0.5
             },
             "pattern": {
              "fillmode": "overlay",
              "size": 10,
              "solidity": 0.2
             }
            },
            "type": "bar"
           }
          ],
          "barpolar": [
           {
            "marker": {
             "line": {
              "color": "rgb(237,237,237)",
              "width": 0.5
             },
             "pattern": {
              "fillmode": "overlay",
              "size": 10,
              "solidity": 0.2
             }
            },
            "type": "barpolar"
           }
          ],
          "carpet": [
           {
            "aaxis": {
             "endlinecolor": "rgb(51,51,51)",
             "gridcolor": "white",
             "linecolor": "white",
             "minorgridcolor": "white",
             "startlinecolor": "rgb(51,51,51)"
            },
            "baxis": {
             "endlinecolor": "rgb(51,51,51)",
             "gridcolor": "white",
             "linecolor": "white",
             "minorgridcolor": "white",
             "startlinecolor": "rgb(51,51,51)"
            },
            "type": "carpet"
           }
          ],
          "choropleth": [
           {
            "colorbar": {
             "outlinewidth": 0,
             "tickcolor": "rgb(237,237,237)",
             "ticklen": 6,
             "ticks": "inside"
            },
            "type": "choropleth"
           }
          ],
          "contour": [
           {
            "colorbar": {
             "outlinewidth": 0,
             "tickcolor": "rgb(237,237,237)",
             "ticklen": 6,
             "ticks": "inside"
            },
            "colorscale": [
             [
              0,
              "rgb(20,44,66)"
             ],
             [
              1,
              "rgb(90,179,244)"
             ]
            ],
            "type": "contour"
           }
          ],
          "contourcarpet": [
           {
            "colorbar": {
             "outlinewidth": 0,
             "tickcolor": "rgb(237,237,237)",
             "ticklen": 6,
             "ticks": "inside"
            },
            "type": "contourcarpet"
           }
          ],
          "heatmap": [
           {
            "colorbar": {
             "outlinewidth": 0,
             "tickcolor": "rgb(237,237,237)",
             "ticklen": 6,
             "ticks": "inside"
            },
            "colorscale": [
             [
              0,
              "rgb(20,44,66)"
             ],
             [
              1,
              "rgb(90,179,244)"
             ]
            ],
            "type": "heatmap"
           }
          ],
          "histogram": [
           {
            "marker": {
             "pattern": {
              "fillmode": "overlay",
              "size": 10,
              "solidity": 0.2
             }
            },
            "type": "histogram"
           }
          ],
          "histogram2d": [
           {
            "colorbar": {
             "outlinewidth": 0,
             "tickcolor": "rgb(237,237,237)",
             "ticklen": 6,
             "ticks": "inside"
            },
            "colorscale": [
             [
              0,
              "rgb(20,44,66)"
             ],
             [
              1,
              "rgb(90,179,244)"
             ]
            ],
            "type": "histogram2d"
           }
          ],
          "histogram2dcontour": [
           {
            "colorbar": {
             "outlinewidth": 0,
             "tickcolor": "rgb(237,237,237)",
             "ticklen": 6,
             "ticks": "inside"
            },
            "colorscale": [
             [
              0,
              "rgb(20,44,66)"
             ],
             [
              1,
              "rgb(90,179,244)"
             ]
            ],
            "type": "histogram2dcontour"
           }
          ],
          "mesh3d": [
           {
            "colorbar": {
             "outlinewidth": 0,
             "tickcolor": "rgb(237,237,237)",
             "ticklen": 6,
             "ticks": "inside"
            },
            "type": "mesh3d"
           }
          ],
          "parcoords": [
           {
            "line": {
             "colorbar": {
              "outlinewidth": 0,
              "tickcolor": "rgb(237,237,237)",
              "ticklen": 6,
              "ticks": "inside"
             }
            },
            "type": "parcoords"
           }
          ],
          "pie": [
           {
            "automargin": true,
            "type": "pie"
           }
          ],
          "scatter": [
           {
            "fillpattern": {
             "fillmode": "overlay",
             "size": 10,
             "solidity": 0.2
            },
            "type": "scatter"
           }
          ],
          "scatter3d": [
           {
            "line": {
             "colorbar": {
              "outlinewidth": 0,
              "tickcolor": "rgb(237,237,237)",
              "ticklen": 6,
              "ticks": "inside"
             }
            },
            "marker": {
             "colorbar": {
              "outlinewidth": 0,
              "tickcolor": "rgb(237,237,237)",
              "ticklen": 6,
              "ticks": "inside"
             }
            },
            "type": "scatter3d"
           }
          ],
          "scattercarpet": [
           {
            "marker": {
             "colorbar": {
              "outlinewidth": 0,
              "tickcolor": "rgb(237,237,237)",
              "ticklen": 6,
              "ticks": "inside"
             }
            },
            "type": "scattercarpet"
           }
          ],
          "scattergeo": [
           {
            "marker": {
             "colorbar": {
              "outlinewidth": 0,
              "tickcolor": "rgb(237,237,237)",
              "ticklen": 6,
              "ticks": "inside"
             }
            },
            "type": "scattergeo"
           }
          ],
          "scattergl": [
           {
            "marker": {
             "colorbar": {
              "outlinewidth": 0,
              "tickcolor": "rgb(237,237,237)",
              "ticklen": 6,
              "ticks": "inside"
             }
            },
            "type": "scattergl"
           }
          ],
          "scattermap": [
           {
            "marker": {
             "colorbar": {
              "outlinewidth": 0,
              "tickcolor": "rgb(237,237,237)",
              "ticklen": 6,
              "ticks": "inside"
             }
            },
            "type": "scattermap"
           }
          ],
          "scattermapbox": [
           {
            "marker": {
             "colorbar": {
              "outlinewidth": 0,
              "tickcolor": "rgb(237,237,237)",
              "ticklen": 6,
              "ticks": "inside"
             }
            },
            "type": "scattermapbox"
           }
          ],
          "scatterpolar": [
           {
            "marker": {
             "colorbar": {
              "outlinewidth": 0,
              "tickcolor": "rgb(237,237,237)",
              "ticklen": 6,
              "ticks": "inside"
             }
            },
            "type": "scatterpolar"
           }
          ],
          "scatterpolargl": [
           {
            "marker": {
             "colorbar": {
              "outlinewidth": 0,
              "tickcolor": "rgb(237,237,237)",
              "ticklen": 6,
              "ticks": "inside"
             }
            },
            "type": "scatterpolargl"
           }
          ],
          "scatterternary": [
           {
            "marker": {
             "colorbar": {
              "outlinewidth": 0,
              "tickcolor": "rgb(237,237,237)",
              "ticklen": 6,
              "ticks": "inside"
             }
            },
            "type": "scatterternary"
           }
          ],
          "surface": [
           {
            "colorbar": {
             "outlinewidth": 0,
             "tickcolor": "rgb(237,237,237)",
             "ticklen": 6,
             "ticks": "inside"
            },
            "colorscale": [
             [
              0,
              "rgb(20,44,66)"
             ],
             [
              1,
              "rgb(90,179,244)"
             ]
            ],
            "type": "surface"
           }
          ],
          "table": [
           {
            "cells": {
             "fill": {
              "color": "rgb(237,237,237)"
             },
             "line": {
              "color": "white"
             }
            },
            "header": {
             "fill": {
              "color": "rgb(217,217,217)"
             },
             "line": {
              "color": "white"
             }
            },
            "type": "table"
           }
          ]
         },
         "layout": {
          "annotationdefaults": {
           "arrowhead": 0,
           "arrowwidth": 1
          },
          "autotypenumbers": "strict",
          "coloraxis": {
           "colorbar": {
            "outlinewidth": 0,
            "tickcolor": "rgb(237,237,237)",
            "ticklen": 6,
            "ticks": "inside"
           }
          },
          "colorscale": {
           "sequential": [
            [
             0,
             "rgb(20,44,66)"
            ],
            [
             1,
             "rgb(90,179,244)"
            ]
           ],
           "sequentialminus": [
            [
             0,
             "rgb(20,44,66)"
            ],
            [
             1,
             "rgb(90,179,244)"
            ]
           ]
          },
          "colorway": [
           "#F8766D",
           "#A3A500",
           "#00BF7D",
           "#00B0F6",
           "#E76BF3"
          ],
          "font": {
           "color": "rgb(51,51,51)"
          },
          "geo": {
           "bgcolor": "white",
           "lakecolor": "white",
           "landcolor": "rgb(237,237,237)",
           "showlakes": true,
           "showland": true,
           "subunitcolor": "white"
          },
          "hoverlabel": {
           "align": "left"
          },
          "hovermode": "closest",
          "paper_bgcolor": "white",
          "plot_bgcolor": "rgb(237,237,237)",
          "polar": {
           "angularaxis": {
            "gridcolor": "white",
            "linecolor": "white",
            "showgrid": true,
            "tickcolor": "rgb(51,51,51)",
            "ticks": "outside"
           },
           "bgcolor": "rgb(237,237,237)",
           "radialaxis": {
            "gridcolor": "white",
            "linecolor": "white",
            "showgrid": true,
            "tickcolor": "rgb(51,51,51)",
            "ticks": "outside"
           }
          },
          "scene": {
           "xaxis": {
            "backgroundcolor": "rgb(237,237,237)",
            "gridcolor": "white",
            "gridwidth": 2,
            "linecolor": "white",
            "showbackground": true,
            "showgrid": true,
            "tickcolor": "rgb(51,51,51)",
            "ticks": "outside",
            "zerolinecolor": "white"
           },
           "yaxis": {
            "backgroundcolor": "rgb(237,237,237)",
            "gridcolor": "white",
            "gridwidth": 2,
            "linecolor": "white",
            "showbackground": true,
            "showgrid": true,
            "tickcolor": "rgb(51,51,51)",
            "ticks": "outside",
            "zerolinecolor": "white"
           },
           "zaxis": {
            "backgroundcolor": "rgb(237,237,237)",
            "gridcolor": "white",
            "gridwidth": 2,
            "linecolor": "white",
            "showbackground": true,
            "showgrid": true,
            "tickcolor": "rgb(51,51,51)",
            "ticks": "outside",
            "zerolinecolor": "white"
           }
          },
          "shapedefaults": {
           "fillcolor": "black",
           "line": {
            "width": 0
           },
           "opacity": 0.3
          },
          "ternary": {
           "aaxis": {
            "gridcolor": "white",
            "linecolor": "white",
            "showgrid": true,
            "tickcolor": "rgb(51,51,51)",
            "ticks": "outside"
           },
           "baxis": {
            "gridcolor": "white",
            "linecolor": "white",
            "showgrid": true,
            "tickcolor": "rgb(51,51,51)",
            "ticks": "outside"
           },
           "bgcolor": "rgb(237,237,237)",
           "caxis": {
            "gridcolor": "white",
            "linecolor": "white",
            "showgrid": true,
            "tickcolor": "rgb(51,51,51)",
            "ticks": "outside"
           }
          },
          "xaxis": {
           "automargin": true,
           "gridcolor": "white",
           "linecolor": "white",
           "showgrid": true,
           "tickcolor": "rgb(51,51,51)",
           "ticks": "outside",
           "title": {
            "standoff": 15
           },
           "zerolinecolor": "white"
          },
          "yaxis": {
           "automargin": true,
           "gridcolor": "white",
           "linecolor": "white",
           "showgrid": true,
           "tickcolor": "rgb(51,51,51)",
           "ticks": "outside",
           "title": {
            "standoff": 15
           },
           "zerolinecolor": "white"
          }
         }
        },
        "title": {
         "text": ""
        },
        "xaxis": {
         "anchor": "y",
         "domain": [
          0,
          1
         ],
         "tickfont": {
          "size": 16
         },
         "title": {
          "text": "Minimum degree for selected genes"
         }
        },
        "yaxis": {
         "anchor": "x",
         "domain": [
          0,
          1
         ],
         "tickfont": {
          "size": 16
         },
         "title": {
          "text": "Modularity Score"
         }
        }
       }
      }
     },
     "metadata": {},
     "output_type": "display_data"
    }
   ],
   "source": [
    "top_comb_leiden = tf_stats(top_leid_ctrls, leid_h[leid_h[\"Leiden Rank\"] == 0])\n",
    "fig = px.line(\n",
    "    top_comb_leiden,\n",
    "    x=\"TF\",\n",
    "    y=\"Mod_mean\",\n",
    "    error_y=\"Mod_std\",\n",
    "    markers=True,\n",
    "    color=\"Type\",\n",
    "    height=600,\n",
    "    title=\"Modularity scores for the best top Leiden Run.\",\n",
    "    color_discrete_map=color_map,\n",
    ")\n",
    "fig.update_layout(\n",
    "    legend=dict(\n",
    "        orientation=\"h\",\n",
    "        title=\"Leiden\",\n",
    "        yanchor=\"bottom\",\n",
    "        y=0.87,\n",
    "        xanchor=\"center\",\n",
    "        x=0.5,\n",
    "        bgcolor=\"rgba(0,0,0,0)\",\n",
    "        font=dict(size=16, color=\"#003366\"),\n",
    "    ),\n",
    "    title=\"\",\n",
    "    xaxis=dict(\n",
    "        tickfont=dict(size=16),\n",
    "        title=\"Minimum degree for selected genes\",\n",
    "    ),\n",
    "    yaxis=dict(\n",
    "        tickfont=dict(size=16),\n",
    "        title=\"Modularity Score\",\n",
    "    ),\n",
    "    font=dict(size=16),\n",
    ")\n",
    "fig.update_traces(line_width=5, marker_size=12, error_y=dict(width=5))\n",
    "\n",
    "fig.show()"
   ]
  },
  {
   "cell_type": "markdown",
   "id": "25db84c9",
   "metadata": {},
   "source": [
    "## Comparing the community sizes and the degree of TFs\n",
    "\n",
    "### Leiden"
   ]
  },
  {
   "cell_type": "code",
   "execution_count": null,
   "id": "f3aa7620",
   "metadata": {},
   "outputs": [
    {
     "data": {
      "application/vnd.plotly.v1+json": {
       "config": {
        "plotlyServerURL": "https://plot.ly"
       },
       "data": [
        {
         "error_y": {
          "array": {
           "bdata": "ZiutHdRs1D9mK60d1GzUP2YrrR3UbNQ/ZiutHdRs1D87SjQBVjTmPztKNAFWNOY/O0o0AVY05j87SjQBVjTmPztKNAFWNOY/O0o0AVY05j87SjQBVjTmPztKNAFWNOY/Zvr+3X0r3j9m+v7dfSveP2b6/t19K94/Zvr+3X0r3j+s5j/eaf3lP6zmP95p/eU/rOY/3mn95T+s5j/eaf3lP6INhu4G2No/og2G7gbY2j+iDYbuBtjaP6INhu4G2No/gwUWjhEx5D+DBRaOETHkP4MFFo4RMeQ/gwUWjhEx5D8=",
           "dtype": "f8"
          },
          "width": 5
         },
         "hovertemplate": "Type=Control<br>TF=%{x}<br>ModNum_mean=%{y}<extra></extra>",
         "legendgroup": "Control",
         "line": {
          "color": "#DC3912",
          "dash": "solid",
          "width": 5
         },
         "marker": {
          "size": 12,
          "symbol": "circle"
         },
         "mode": "lines+markers",
         "name": "Control",
         "orientation": "v",
         "showlegend": true,
         "type": "scatter",
         "x": [
          "3",
          "3",
          "3",
          "3",
          "4",
          "4",
          "4",
          "4",
          "5",
          "5",
          "5",
          "5",
          "6",
          "6",
          "6",
          "6",
          "7",
          "7",
          "7",
          "7",
          "8",
          "8",
          "8",
          "8",
          "9",
          "9",
          "9",
          "9"
         ],
         "xaxis": "x",
         "y": {
          "bdata": "VVVVVVW1QEBVVVVVVbVAQFVVVVVVtUBAVVVVVVW1QEBWVVVVVZVAQFZVVVVVlUBAVlVVVVWVQEBWVVVVVZVAQFZVVVVVlUBAVlVVVVWVQEBWVVVVVZVAQFZVVVVVlUBAq6qqqqqqQECrqqqqqqpAQKuqqqqqqkBAq6qqqqqqQEAAAAAAAGBAQAAAAAAAYEBAAAAAAABgQEAAAAAAAGBAQKqqqqqqSkBAqqqqqqpKQECqqqqqqkpAQKqqqqqqSkBAAAAAAABgQEAAAAAAAGBAQAAAAAAAYEBAAAAAAABgQEA=",
          "dtype": "f8"
         },
         "yaxis": "y"
        },
        {
         "error_y": {
          "array": {
           "bdata": "AAAAAAAA+H8AAAAAAAD4fwAAAAAAAPh/AAAAAAAA+H8AAAAAAAD4fwAAAAAAAPh/AAAAAAAA+H8=",
           "dtype": "f8"
          },
          "width": 5
         },
         "hovertemplate": "Type=Experiment<br>TF=%{x}<br>ModNum_mean=%{y}<extra></extra>",
         "legendgroup": "Experiment",
         "line": {
          "color": "#3366CC",
          "dash": "solid",
          "width": 5
         },
         "marker": {
          "size": 12,
          "symbol": "circle"
         },
         "mode": "lines+markers",
         "name": "Experiment",
         "orientation": "v",
         "showlegend": true,
         "type": "scatter",
         "x": [
          "3",
          "4",
          "5",
          "6",
          "7",
          "8",
          "9"
         ],
         "xaxis": "x",
         "y": {
          "bdata": "AAAAAACAQEAAAAAAAIBAQAAAAAAAgEBAq6qqqqqqQECrqqqqqipAQFVVVVVVVUBAAAAAAAAAP0A=",
          "dtype": "f8"
         },
         "yaxis": "y"
        }
       ],
       "layout": {
        "font": {
         "size": 16
        },
        "height": 600,
        "legend": {
         "bgcolor": "rgba(0,0,0,0)",
         "font": {
          "color": "#003366",
          "size": 16
         },
         "orientation": "h",
         "title": {
          "text": "Leiden"
         },
         "tracegroupgap": 0
        },
        "template": {
         "data": {
          "bar": [
           {
            "error_x": {
             "color": "rgb(51,51,51)"
            },
            "error_y": {
             "color": "rgb(51,51,51)"
            },
            "marker": {
             "line": {
              "color": "rgb(237,237,237)",
              "width": 0.5
             },
             "pattern": {
              "fillmode": "overlay",
              "size": 10,
              "solidity": 0.2
             }
            },
            "type": "bar"
           }
          ],
          "barpolar": [
           {
            "marker": {
             "line": {
              "color": "rgb(237,237,237)",
              "width": 0.5
             },
             "pattern": {
              "fillmode": "overlay",
              "size": 10,
              "solidity": 0.2
             }
            },
            "type": "barpolar"
           }
          ],
          "carpet": [
           {
            "aaxis": {
             "endlinecolor": "rgb(51,51,51)",
             "gridcolor": "white",
             "linecolor": "white",
             "minorgridcolor": "white",
             "startlinecolor": "rgb(51,51,51)"
            },
            "baxis": {
             "endlinecolor": "rgb(51,51,51)",
             "gridcolor": "white",
             "linecolor": "white",
             "minorgridcolor": "white",
             "startlinecolor": "rgb(51,51,51)"
            },
            "type": "carpet"
           }
          ],
          "choropleth": [
           {
            "colorbar": {
             "outlinewidth": 0,
             "tickcolor": "rgb(237,237,237)",
             "ticklen": 6,
             "ticks": "inside"
            },
            "type": "choropleth"
           }
          ],
          "contour": [
           {
            "colorbar": {
             "outlinewidth": 0,
             "tickcolor": "rgb(237,237,237)",
             "ticklen": 6,
             "ticks": "inside"
            },
            "colorscale": [
             [
              0,
              "rgb(20,44,66)"
             ],
             [
              1,
              "rgb(90,179,244)"
             ]
            ],
            "type": "contour"
           }
          ],
          "contourcarpet": [
           {
            "colorbar": {
             "outlinewidth": 0,
             "tickcolor": "rgb(237,237,237)",
             "ticklen": 6,
             "ticks": "inside"
            },
            "type": "contourcarpet"
           }
          ],
          "heatmap": [
           {
            "colorbar": {
             "outlinewidth": 0,
             "tickcolor": "rgb(237,237,237)",
             "ticklen": 6,
             "ticks": "inside"
            },
            "colorscale": [
             [
              0,
              "rgb(20,44,66)"
             ],
             [
              1,
              "rgb(90,179,244)"
             ]
            ],
            "type": "heatmap"
           }
          ],
          "histogram": [
           {
            "marker": {
             "pattern": {
              "fillmode": "overlay",
              "size": 10,
              "solidity": 0.2
             }
            },
            "type": "histogram"
           }
          ],
          "histogram2d": [
           {
            "colorbar": {
             "outlinewidth": 0,
             "tickcolor": "rgb(237,237,237)",
             "ticklen": 6,
             "ticks": "inside"
            },
            "colorscale": [
             [
              0,
              "rgb(20,44,66)"
             ],
             [
              1,
              "rgb(90,179,244)"
             ]
            ],
            "type": "histogram2d"
           }
          ],
          "histogram2dcontour": [
           {
            "colorbar": {
             "outlinewidth": 0,
             "tickcolor": "rgb(237,237,237)",
             "ticklen": 6,
             "ticks": "inside"
            },
            "colorscale": [
             [
              0,
              "rgb(20,44,66)"
             ],
             [
              1,
              "rgb(90,179,244)"
             ]
            ],
            "type": "histogram2dcontour"
           }
          ],
          "mesh3d": [
           {
            "colorbar": {
             "outlinewidth": 0,
             "tickcolor": "rgb(237,237,237)",
             "ticklen": 6,
             "ticks": "inside"
            },
            "type": "mesh3d"
           }
          ],
          "parcoords": [
           {
            "line": {
             "colorbar": {
              "outlinewidth": 0,
              "tickcolor": "rgb(237,237,237)",
              "ticklen": 6,
              "ticks": "inside"
             }
            },
            "type": "parcoords"
           }
          ],
          "pie": [
           {
            "automargin": true,
            "type": "pie"
           }
          ],
          "scatter": [
           {
            "fillpattern": {
             "fillmode": "overlay",
             "size": 10,
             "solidity": 0.2
            },
            "type": "scatter"
           }
          ],
          "scatter3d": [
           {
            "line": {
             "colorbar": {
              "outlinewidth": 0,
              "tickcolor": "rgb(237,237,237)",
              "ticklen": 6,
              "ticks": "inside"
             }
            },
            "marker": {
             "colorbar": {
              "outlinewidth": 0,
              "tickcolor": "rgb(237,237,237)",
              "ticklen": 6,
              "ticks": "inside"
             }
            },
            "type": "scatter3d"
           }
          ],
          "scattercarpet": [
           {
            "marker": {
             "colorbar": {
              "outlinewidth": 0,
              "tickcolor": "rgb(237,237,237)",
              "ticklen": 6,
              "ticks": "inside"
             }
            },
            "type": "scattercarpet"
           }
          ],
          "scattergeo": [
           {
            "marker": {
             "colorbar": {
              "outlinewidth": 0,
              "tickcolor": "rgb(237,237,237)",
              "ticklen": 6,
              "ticks": "inside"
             }
            },
            "type": "scattergeo"
           }
          ],
          "scattergl": [
           {
            "marker": {
             "colorbar": {
              "outlinewidth": 0,
              "tickcolor": "rgb(237,237,237)",
              "ticklen": 6,
              "ticks": "inside"
             }
            },
            "type": "scattergl"
           }
          ],
          "scattermap": [
           {
            "marker": {
             "colorbar": {
              "outlinewidth": 0,
              "tickcolor": "rgb(237,237,237)",
              "ticklen": 6,
              "ticks": "inside"
             }
            },
            "type": "scattermap"
           }
          ],
          "scattermapbox": [
           {
            "marker": {
             "colorbar": {
              "outlinewidth": 0,
              "tickcolor": "rgb(237,237,237)",
              "ticklen": 6,
              "ticks": "inside"
             }
            },
            "type": "scattermapbox"
           }
          ],
          "scatterpolar": [
           {
            "marker": {
             "colorbar": {
              "outlinewidth": 0,
              "tickcolor": "rgb(237,237,237)",
              "ticklen": 6,
              "ticks": "inside"
             }
            },
            "type": "scatterpolar"
           }
          ],
          "scatterpolargl": [
           {
            "marker": {
             "colorbar": {
              "outlinewidth": 0,
              "tickcolor": "rgb(237,237,237)",
              "ticklen": 6,
              "ticks": "inside"
             }
            },
            "type": "scatterpolargl"
           }
          ],
          "scatterternary": [
           {
            "marker": {
             "colorbar": {
              "outlinewidth": 0,
              "tickcolor": "rgb(237,237,237)",
              "ticklen": 6,
              "ticks": "inside"
             }
            },
            "type": "scatterternary"
           }
          ],
          "surface": [
           {
            "colorbar": {
             "outlinewidth": 0,
             "tickcolor": "rgb(237,237,237)",
             "ticklen": 6,
             "ticks": "inside"
            },
            "colorscale": [
             [
              0,
              "rgb(20,44,66)"
             ],
             [
              1,
              "rgb(90,179,244)"
             ]
            ],
            "type": "surface"
           }
          ],
          "table": [
           {
            "cells": {
             "fill": {
              "color": "rgb(237,237,237)"
             },
             "line": {
              "color": "white"
             }
            },
            "header": {
             "fill": {
              "color": "rgb(217,217,217)"
             },
             "line": {
              "color": "white"
             }
            },
            "type": "table"
           }
          ]
         },
         "layout": {
          "annotationdefaults": {
           "arrowhead": 0,
           "arrowwidth": 1
          },
          "autotypenumbers": "strict",
          "coloraxis": {
           "colorbar": {
            "outlinewidth": 0,
            "tickcolor": "rgb(237,237,237)",
            "ticklen": 6,
            "ticks": "inside"
           }
          },
          "colorscale": {
           "sequential": [
            [
             0,
             "rgb(20,44,66)"
            ],
            [
             1,
             "rgb(90,179,244)"
            ]
           ],
           "sequentialminus": [
            [
             0,
             "rgb(20,44,66)"
            ],
            [
             1,
             "rgb(90,179,244)"
            ]
           ]
          },
          "colorway": [
           "#F8766D",
           "#A3A500",
           "#00BF7D",
           "#00B0F6",
           "#E76BF3"
          ],
          "font": {
           "color": "rgb(51,51,51)"
          },
          "geo": {
           "bgcolor": "white",
           "lakecolor": "white",
           "landcolor": "rgb(237,237,237)",
           "showlakes": true,
           "showland": true,
           "subunitcolor": "white"
          },
          "hoverlabel": {
           "align": "left"
          },
          "hovermode": "closest",
          "paper_bgcolor": "white",
          "plot_bgcolor": "rgb(237,237,237)",
          "polar": {
           "angularaxis": {
            "gridcolor": "white",
            "linecolor": "white",
            "showgrid": true,
            "tickcolor": "rgb(51,51,51)",
            "ticks": "outside"
           },
           "bgcolor": "rgb(237,237,237)",
           "radialaxis": {
            "gridcolor": "white",
            "linecolor": "white",
            "showgrid": true,
            "tickcolor": "rgb(51,51,51)",
            "ticks": "outside"
           }
          },
          "scene": {
           "xaxis": {
            "backgroundcolor": "rgb(237,237,237)",
            "gridcolor": "white",
            "gridwidth": 2,
            "linecolor": "white",
            "showbackground": true,
            "showgrid": true,
            "tickcolor": "rgb(51,51,51)",
            "ticks": "outside",
            "zerolinecolor": "white"
           },
           "yaxis": {
            "backgroundcolor": "rgb(237,237,237)",
            "gridcolor": "white",
            "gridwidth": 2,
            "linecolor": "white",
            "showbackground": true,
            "showgrid": true,
            "tickcolor": "rgb(51,51,51)",
            "ticks": "outside",
            "zerolinecolor": "white"
           },
           "zaxis": {
            "backgroundcolor": "rgb(237,237,237)",
            "gridcolor": "white",
            "gridwidth": 2,
            "linecolor": "white",
            "showbackground": true,
            "showgrid": true,
            "tickcolor": "rgb(51,51,51)",
            "ticks": "outside",
            "zerolinecolor": "white"
           }
          },
          "shapedefaults": {
           "fillcolor": "black",
           "line": {
            "width": 0
           },
           "opacity": 0.3
          },
          "ternary": {
           "aaxis": {
            "gridcolor": "white",
            "linecolor": "white",
            "showgrid": true,
            "tickcolor": "rgb(51,51,51)",
            "ticks": "outside"
           },
           "baxis": {
            "gridcolor": "white",
            "linecolor": "white",
            "showgrid": true,
            "tickcolor": "rgb(51,51,51)",
            "ticks": "outside"
           },
           "bgcolor": "rgb(237,237,237)",
           "caxis": {
            "gridcolor": "white",
            "linecolor": "white",
            "showgrid": true,
            "tickcolor": "rgb(51,51,51)",
            "ticks": "outside"
           }
          },
          "xaxis": {
           "automargin": true,
           "gridcolor": "white",
           "linecolor": "white",
           "showgrid": true,
           "tickcolor": "rgb(51,51,51)",
           "ticks": "outside",
           "title": {
            "standoff": 15
           },
           "zerolinecolor": "white"
          },
          "yaxis": {
           "automargin": true,
           "gridcolor": "white",
           "linecolor": "white",
           "showgrid": true,
           "tickcolor": "rgb(51,51,51)",
           "ticks": "outside",
           "title": {
            "standoff": 15
           },
           "zerolinecolor": "white"
          }
         }
        },
        "title": {
         "text": ""
        },
        "xaxis": {
         "anchor": "y",
         "domain": [
          0,
          1
         ],
         "tickfont": {
          "size": 16
         },
         "title": {
          "text": "Minimum degree for selected genes"
         }
        },
        "yaxis": {
         "anchor": "x",
         "domain": [
          0,
          1
         ],
         "tickfont": {
          "size": 16
         },
         "tickmode": "linear",
         "title": {
          "text": "Number of communities"
         }
        }
       }
      }
     },
     "metadata": {},
     "output_type": "display_data"
    }
   ],
   "source": [
    "# A more polished figure\n",
    "leid_fig = px.line(\n",
    "    top_comb_leiden,\n",
    "    x=\"TF\",\n",
    "    y=\"ModNum_mean\",\n",
    "    error_y=\"ModNum_std\",\n",
    "    markers=True,\n",
    "    color=\"Type\",\n",
    "    height=600,\n",
    "    title=\"Community sizes for the best top Leiden Run.\",\n",
    "    color_discrete_map=color_map,\n",
    ")\n",
    "leid_fig.update_layout(\n",
    "    # legend=dict(\n",
    "    #     orientation=\"h\",\n",
    "    #     title=\"Leiden\",\n",
    "    #     bgcolor=\"rgba(0,0,0,0)\",\n",
    "    #     font=dict(size=16, color=\"#003366\"),\n",
    "    # ),\n",
    "    title=\"\",\n",
    "    xaxis=dict(\n",
    "        tickfont=dict(size=16),\n",
    "        title=\"Minimum degree for selected genes\",\n",
    "    ),\n",
    "    yaxis=dict(\n",
    "        tickfont=dict(size=16),\n",
    "        tickmode=\"linear\",\n",
    "        title=\"Number of communities\",\n",
    "    ),\n",
    "    font=dict(size=16),\n",
    ")\n",
    "leid_fig.update_traces(line_width=5, marker_size=12, error_y=dict(width=5))\n",
    "leid_fig.show()"
   ]
  },
  {
   "cell_type": "markdown",
   "id": "4e278b8f",
   "metadata": {},
   "source": [
    "## hSBM"
   ]
  },
  {
   "cell_type": "code",
   "execution_count": 77,
   "id": "a93d1c8a",
   "metadata": {},
   "outputs": [],
   "source": [
    "# Get the number of communities for each experiment using hsbm_get_gt_df\n",
    "ctrl_sizes, h_sizes = [], []\n",
    "for key, val in h_exps.items():\n",
    "    results_df, _ = val.hsbm_get_gt_df()\n",
    "    tf = val.extract_tf_number(val.name)\n",
    "    h_sizes.append(((tf, \"Experiment\", len(results_df[\"max_b\"].unique()))))\n",
    "    for idx in range(1, len(test_ctrls)+1, 1):\n",
    "        ctrl_exp = ctrl_exps[idx]['exps'][key]\n",
    "        control_res, _ = ctrl_exp.hsbm_get_gt_df()\n",
    "        tf = ctrl_exp.extract_tf_number(key)\n",
    "        ctrl_sizes.append(\n",
    "            ((tf, \"hCtrl{}\".format(idx), len(control_res[\"max_b\"].unique()))))\n",
    "\n",
    "# Combine the networks' sizes of the communities into a single DataFrame\n",
    "ctrl_sizes = pd.DataFrame(ctrl_sizes, columns=[\"TF\", \"Type\", \"Com_size\"])\n",
    "ctrl_sizes[\"Type\"] = \"Control\"\n",
    "h_sizes = pd.DataFrame(h_sizes, columns=[\"TF\", \"Type\", \"Com_size\"])"
   ]
  },
  {
   "cell_type": "code",
   "execution_count": 88,
   "id": "8cbdf906",
   "metadata": {},
   "outputs": [],
   "source": [
    "# Compute stats of the number of communities\n",
    "for tf in ctrl_sizes[\"TF\"].unique():\n",
    "    sel_df = ctrl_sizes[(ctrl_sizes[\"TF\"] == tf)]\n",
    "    sel_df_exp = h_sizes[h_sizes[\"TF\"] == tf]\n",
    "\n",
    "    ctrl_sizes.loc[ctrl_sizes[\"TF\"] == tf,\n",
    "                   \"Size_median\"] = sel_df[\"Com_size\"].median(axis=0)\n",
    "    ctrl_sizes.loc[ctrl_sizes[\"TF\"] == tf,\n",
    "                   \"Size_mean\"] = sel_df[\"Com_size\"].mean(axis=0)\n",
    "    ctrl_sizes.loc[ctrl_sizes[\"TF\"] == tf,\n",
    "                   \"Size_std\"] = sel_df[\"Com_size\"].std(axis=0)\n",
    "\n",
    "    h_sizes.loc[h_sizes[\"TF\"] == tf,\n",
    "                \"Size_median\"] = sel_df_exp[\"Com_size\"].median(axis=0)\n",
    "    h_sizes.loc[h_sizes[\"TF\"] == tf,\n",
    "                \"Size_mean\"] = sel_df_exp[\"Com_size\"].mean(axis=0)\n",
    "    h_sizes.loc[h_sizes[\"TF\"] == tf, \"Size_std\"] = 0\n",
    "\n",
    "comb_df = pd.concat([ctrl_sizes, h_sizes], axis=0)"
   ]
  },
  {
   "cell_type": "code",
   "execution_count": 89,
   "id": "c9e0c1d0",
   "metadata": {},
   "outputs": [
    {
     "data": {
      "application/vnd.plotly.v1+json": {
       "config": {
        "plotlyServerURL": "https://plot.ly"
       },
       "data": [
        {
         "error_y": {
          "array": {
           "bdata": "AAAAAAAAAAAAAAAAAAAAAAAAAAAAAAAAAAAAAAAAAAAAAAAAAAAAAAAAAAAAAAAAAAAAAAAAAAAAAAAAAAAAAAAAAAAAAAAAAAAAAAAAAAAAAAAAAAAAAAAAAAAAAAAAAAAAAAAAAAAAAAAAAAAAAAAAAAAAAAAAAAAAAAAAAAAAAAAAAAAAAAAAAAAAAAAAAAAAAAAAAAAAAAAAAAAAAAAAAAAAAAAAAAAAAAAAAAAAAAAAAAAAAAAAAAAAAAAAAAAAAAAAAAAAAAAAAAAAAAAAAAAAAAAAAAAAAAAAAAAAAAAAAAAAAAAAAAAAAAAAAAAAAAAAAAAAAAAAAAAAAAAAAAAAAAAAAAAAAAAAAAAAAAAAAAAAAA==",
           "dtype": "f8"
          },
          "width": 5
         },
         "hovertemplate": "Type=Control<br>TF=%{x}<br>Size_mean=%{y}<extra></extra>",
         "legendgroup": "Control",
         "line": {
          "color": "#DC3912",
          "dash": "solid",
          "width": 5
         },
         "marker": {
          "size": 12,
          "symbol": "circle"
         },
         "mode": "lines+markers",
         "name": "Control",
         "orientation": "v",
         "showlegend": true,
         "type": "scatter",
         "x": {
          "bdata": "BAQEBAQDAwMDAwcHBwcHCQkJCQkFBQUFBQgICAgIBgYGBgY=",
          "dtype": "i1"
         },
         "xaxis": "x",
         "y": {
          "bdata": "AAAAAAAA8D8AAAAAAADwPwAAAAAAAPA/AAAAAAAA8D8AAAAAAADwPwAAAAAAAPA/AAAAAAAA8D8AAAAAAADwPwAAAAAAAPA/AAAAAAAA8D8AAAAAAADwPwAAAAAAAPA/AAAAAAAA8D8AAAAAAADwPwAAAAAAAPA/AAAAAAAA8D8AAAAAAADwPwAAAAAAAPA/AAAAAAAA8D8AAAAAAADwPwAAAAAAAPA/AAAAAAAA8D8AAAAAAADwPwAAAAAAAPA/AAAAAAAA8D8AAAAAAADwPwAAAAAAAPA/AAAAAAAA8D8AAAAAAADwPwAAAAAAAPA/AAAAAAAA8D8AAAAAAADwPwAAAAAAAPA/AAAAAAAA8D8AAAAAAADwPw==",
          "dtype": "f8"
         },
         "yaxis": "y"
        },
        {
         "error_y": {
          "array": {
           "bdata": "AAAAAAAAAAAAAAAAAAAAAAAAAAAAAAAAAAAAAAAAAAAAAAAAAAAAAAAAAAAAAAAAAAAAAAAAAAA=",
           "dtype": "f8"
          },
          "width": 5
         },
         "hovertemplate": "Type=Experiment<br>TF=%{x}<br>Size_mean=%{y}<extra></extra>",
         "legendgroup": "Experiment",
         "line": {
          "color": "#3366CC",
          "dash": "solid",
          "width": 5
         },
         "marker": {
          "size": 12,
          "symbol": "circle"
         },
         "mode": "lines+markers",
         "name": "Experiment",
         "orientation": "v",
         "showlegend": true,
         "type": "scatter",
         "x": {
          "bdata": "BAMHCQUIBg==",
          "dtype": "i1"
         },
         "xaxis": "x",
         "y": {
          "bdata": "AAAAAAAA8D8AAAAAAADwPwAAAAAAAPA/AAAAAAAA8D8AAAAAAADwPwAAAAAAAPA/AAAAAAAA8D8=",
          "dtype": "f8"
         },
         "yaxis": "y"
        }
       ],
       "layout": {
        "font": {
         "size": 16
        },
        "height": 600,
        "legend": {
         "bgcolor": "rgba(0,0,0,0)",
         "font": {
          "color": "#003366",
          "size": 16
         },
         "orientation": "h",
         "title": {
          "text": "Type"
         },
         "tracegroupgap": 0,
         "x": 0.15,
         "xanchor": "center",
         "y": 0.8,
         "yanchor": "bottom"
        },
        "template": {
         "data": {
          "bar": [
           {
            "error_x": {
             "color": "rgb(51,51,51)"
            },
            "error_y": {
             "color": "rgb(51,51,51)"
            },
            "marker": {
             "line": {
              "color": "rgb(237,237,237)",
              "width": 0.5
             },
             "pattern": {
              "fillmode": "overlay",
              "size": 10,
              "solidity": 0.2
             }
            },
            "type": "bar"
           }
          ],
          "barpolar": [
           {
            "marker": {
             "line": {
              "color": "rgb(237,237,237)",
              "width": 0.5
             },
             "pattern": {
              "fillmode": "overlay",
              "size": 10,
              "solidity": 0.2
             }
            },
            "type": "barpolar"
           }
          ],
          "carpet": [
           {
            "aaxis": {
             "endlinecolor": "rgb(51,51,51)",
             "gridcolor": "white",
             "linecolor": "white",
             "minorgridcolor": "white",
             "startlinecolor": "rgb(51,51,51)"
            },
            "baxis": {
             "endlinecolor": "rgb(51,51,51)",
             "gridcolor": "white",
             "linecolor": "white",
             "minorgridcolor": "white",
             "startlinecolor": "rgb(51,51,51)"
            },
            "type": "carpet"
           }
          ],
          "choropleth": [
           {
            "colorbar": {
             "outlinewidth": 0,
             "tickcolor": "rgb(237,237,237)",
             "ticklen": 6,
             "ticks": "inside"
            },
            "type": "choropleth"
           }
          ],
          "contour": [
           {
            "colorbar": {
             "outlinewidth": 0,
             "tickcolor": "rgb(237,237,237)",
             "ticklen": 6,
             "ticks": "inside"
            },
            "colorscale": [
             [
              0,
              "rgb(20,44,66)"
             ],
             [
              1,
              "rgb(90,179,244)"
             ]
            ],
            "type": "contour"
           }
          ],
          "contourcarpet": [
           {
            "colorbar": {
             "outlinewidth": 0,
             "tickcolor": "rgb(237,237,237)",
             "ticklen": 6,
             "ticks": "inside"
            },
            "type": "contourcarpet"
           }
          ],
          "heatmap": [
           {
            "colorbar": {
             "outlinewidth": 0,
             "tickcolor": "rgb(237,237,237)",
             "ticklen": 6,
             "ticks": "inside"
            },
            "colorscale": [
             [
              0,
              "rgb(20,44,66)"
             ],
             [
              1,
              "rgb(90,179,244)"
             ]
            ],
            "type": "heatmap"
           }
          ],
          "histogram": [
           {
            "marker": {
             "pattern": {
              "fillmode": "overlay",
              "size": 10,
              "solidity": 0.2
             }
            },
            "type": "histogram"
           }
          ],
          "histogram2d": [
           {
            "colorbar": {
             "outlinewidth": 0,
             "tickcolor": "rgb(237,237,237)",
             "ticklen": 6,
             "ticks": "inside"
            },
            "colorscale": [
             [
              0,
              "rgb(20,44,66)"
             ],
             [
              1,
              "rgb(90,179,244)"
             ]
            ],
            "type": "histogram2d"
           }
          ],
          "histogram2dcontour": [
           {
            "colorbar": {
             "outlinewidth": 0,
             "tickcolor": "rgb(237,237,237)",
             "ticklen": 6,
             "ticks": "inside"
            },
            "colorscale": [
             [
              0,
              "rgb(20,44,66)"
             ],
             [
              1,
              "rgb(90,179,244)"
             ]
            ],
            "type": "histogram2dcontour"
           }
          ],
          "mesh3d": [
           {
            "colorbar": {
             "outlinewidth": 0,
             "tickcolor": "rgb(237,237,237)",
             "ticklen": 6,
             "ticks": "inside"
            },
            "type": "mesh3d"
           }
          ],
          "parcoords": [
           {
            "line": {
             "colorbar": {
              "outlinewidth": 0,
              "tickcolor": "rgb(237,237,237)",
              "ticklen": 6,
              "ticks": "inside"
             }
            },
            "type": "parcoords"
           }
          ],
          "pie": [
           {
            "automargin": true,
            "type": "pie"
           }
          ],
          "scatter": [
           {
            "fillpattern": {
             "fillmode": "overlay",
             "size": 10,
             "solidity": 0.2
            },
            "type": "scatter"
           }
          ],
          "scatter3d": [
           {
            "line": {
             "colorbar": {
              "outlinewidth": 0,
              "tickcolor": "rgb(237,237,237)",
              "ticklen": 6,
              "ticks": "inside"
             }
            },
            "marker": {
             "colorbar": {
              "outlinewidth": 0,
              "tickcolor": "rgb(237,237,237)",
              "ticklen": 6,
              "ticks": "inside"
             }
            },
            "type": "scatter3d"
           }
          ],
          "scattercarpet": [
           {
            "marker": {
             "colorbar": {
              "outlinewidth": 0,
              "tickcolor": "rgb(237,237,237)",
              "ticklen": 6,
              "ticks": "inside"
             }
            },
            "type": "scattercarpet"
           }
          ],
          "scattergeo": [
           {
            "marker": {
             "colorbar": {
              "outlinewidth": 0,
              "tickcolor": "rgb(237,237,237)",
              "ticklen": 6,
              "ticks": "inside"
             }
            },
            "type": "scattergeo"
           }
          ],
          "scattergl": [
           {
            "marker": {
             "colorbar": {
              "outlinewidth": 0,
              "tickcolor": "rgb(237,237,237)",
              "ticklen": 6,
              "ticks": "inside"
             }
            },
            "type": "scattergl"
           }
          ],
          "scattermap": [
           {
            "marker": {
             "colorbar": {
              "outlinewidth": 0,
              "tickcolor": "rgb(237,237,237)",
              "ticklen": 6,
              "ticks": "inside"
             }
            },
            "type": "scattermap"
           }
          ],
          "scattermapbox": [
           {
            "marker": {
             "colorbar": {
              "outlinewidth": 0,
              "tickcolor": "rgb(237,237,237)",
              "ticklen": 6,
              "ticks": "inside"
             }
            },
            "type": "scattermapbox"
           }
          ],
          "scatterpolar": [
           {
            "marker": {
             "colorbar": {
              "outlinewidth": 0,
              "tickcolor": "rgb(237,237,237)",
              "ticklen": 6,
              "ticks": "inside"
             }
            },
            "type": "scatterpolar"
           }
          ],
          "scatterpolargl": [
           {
            "marker": {
             "colorbar": {
              "outlinewidth": 0,
              "tickcolor": "rgb(237,237,237)",
              "ticklen": 6,
              "ticks": "inside"
             }
            },
            "type": "scatterpolargl"
           }
          ],
          "scatterternary": [
           {
            "marker": {
             "colorbar": {
              "outlinewidth": 0,
              "tickcolor": "rgb(237,237,237)",
              "ticklen": 6,
              "ticks": "inside"
             }
            },
            "type": "scatterternary"
           }
          ],
          "surface": [
           {
            "colorbar": {
             "outlinewidth": 0,
             "tickcolor": "rgb(237,237,237)",
             "ticklen": 6,
             "ticks": "inside"
            },
            "colorscale": [
             [
              0,
              "rgb(20,44,66)"
             ],
             [
              1,
              "rgb(90,179,244)"
             ]
            ],
            "type": "surface"
           }
          ],
          "table": [
           {
            "cells": {
             "fill": {
              "color": "rgb(237,237,237)"
             },
             "line": {
              "color": "white"
             }
            },
            "header": {
             "fill": {
              "color": "rgb(217,217,217)"
             },
             "line": {
              "color": "white"
             }
            },
            "type": "table"
           }
          ]
         },
         "layout": {
          "annotationdefaults": {
           "arrowhead": 0,
           "arrowwidth": 1
          },
          "autotypenumbers": "strict",
          "coloraxis": {
           "colorbar": {
            "outlinewidth": 0,
            "tickcolor": "rgb(237,237,237)",
            "ticklen": 6,
            "ticks": "inside"
           }
          },
          "colorscale": {
           "sequential": [
            [
             0,
             "rgb(20,44,66)"
            ],
            [
             1,
             "rgb(90,179,244)"
            ]
           ],
           "sequentialminus": [
            [
             0,
             "rgb(20,44,66)"
            ],
            [
             1,
             "rgb(90,179,244)"
            ]
           ]
          },
          "colorway": [
           "#F8766D",
           "#A3A500",
           "#00BF7D",
           "#00B0F6",
           "#E76BF3"
          ],
          "font": {
           "color": "rgb(51,51,51)"
          },
          "geo": {
           "bgcolor": "white",
           "lakecolor": "white",
           "landcolor": "rgb(237,237,237)",
           "showlakes": true,
           "showland": true,
           "subunitcolor": "white"
          },
          "hoverlabel": {
           "align": "left"
          },
          "hovermode": "closest",
          "paper_bgcolor": "white",
          "plot_bgcolor": "rgb(237,237,237)",
          "polar": {
           "angularaxis": {
            "gridcolor": "white",
            "linecolor": "white",
            "showgrid": true,
            "tickcolor": "rgb(51,51,51)",
            "ticks": "outside"
           },
           "bgcolor": "rgb(237,237,237)",
           "radialaxis": {
            "gridcolor": "white",
            "linecolor": "white",
            "showgrid": true,
            "tickcolor": "rgb(51,51,51)",
            "ticks": "outside"
           }
          },
          "scene": {
           "xaxis": {
            "backgroundcolor": "rgb(237,237,237)",
            "gridcolor": "white",
            "gridwidth": 2,
            "linecolor": "white",
            "showbackground": true,
            "showgrid": true,
            "tickcolor": "rgb(51,51,51)",
            "ticks": "outside",
            "zerolinecolor": "white"
           },
           "yaxis": {
            "backgroundcolor": "rgb(237,237,237)",
            "gridcolor": "white",
            "gridwidth": 2,
            "linecolor": "white",
            "showbackground": true,
            "showgrid": true,
            "tickcolor": "rgb(51,51,51)",
            "ticks": "outside",
            "zerolinecolor": "white"
           },
           "zaxis": {
            "backgroundcolor": "rgb(237,237,237)",
            "gridcolor": "white",
            "gridwidth": 2,
            "linecolor": "white",
            "showbackground": true,
            "showgrid": true,
            "tickcolor": "rgb(51,51,51)",
            "ticks": "outside",
            "zerolinecolor": "white"
           }
          },
          "shapedefaults": {
           "fillcolor": "black",
           "line": {
            "width": 0
           },
           "opacity": 0.3
          },
          "ternary": {
           "aaxis": {
            "gridcolor": "white",
            "linecolor": "white",
            "showgrid": true,
            "tickcolor": "rgb(51,51,51)",
            "ticks": "outside"
           },
           "baxis": {
            "gridcolor": "white",
            "linecolor": "white",
            "showgrid": true,
            "tickcolor": "rgb(51,51,51)",
            "ticks": "outside"
           },
           "bgcolor": "rgb(237,237,237)",
           "caxis": {
            "gridcolor": "white",
            "linecolor": "white",
            "showgrid": true,
            "tickcolor": "rgb(51,51,51)",
            "ticks": "outside"
           }
          },
          "xaxis": {
           "automargin": true,
           "gridcolor": "white",
           "linecolor": "white",
           "showgrid": true,
           "tickcolor": "rgb(51,51,51)",
           "ticks": "outside",
           "title": {
            "standoff": 15
           },
           "zerolinecolor": "white"
          },
          "yaxis": {
           "automargin": true,
           "gridcolor": "white",
           "linecolor": "white",
           "showgrid": true,
           "tickcolor": "rgb(51,51,51)",
           "ticks": "outside",
           "title": {
            "standoff": 15
           },
           "zerolinecolor": "white"
          }
         }
        },
        "title": {
         "text": ""
        },
        "xaxis": {
         "anchor": "y",
         "domain": [
          0,
          1
         ],
         "tickfont": {
          "size": 16
         },
         "title": {
          "text": "Minimum degree for selected genes"
         }
        },
        "yaxis": {
         "anchor": "x",
         "domain": [
          0,
          1
         ],
         "tickfont": {
          "size": 16
         },
         "tickmode": "linear",
         "title": {
          "text": "Number of communities"
         }
        }
       }
      }
     },
     "metadata": {},
     "output_type": "display_data"
    }
   ],
   "source": [
    "if True:\n",
    "    sbm_fig = px.line(\n",
    "        comb_df,\n",
    "        x=\"TF\",\n",
    "        y=\"Size_mean\",\n",
    "        color=\"Type\",\n",
    "        error_y=\"Size_std\",\n",
    "        markers=True,\n",
    "        title=\"SBM. Community sizes\",\n",
    "        height=600,\n",
    "        color_discrete_map=color_map,\n",
    "    )\n",
    "    sbm_fig.update_layout(\n",
    "        legend=dict(\n",
    "            orientation=\"h\",\n",
    "            title=\"Type\",\n",
    "            yanchor=\"bottom\",\n",
    "            xanchor=\"center\",\n",
    "            y=0.8,\n",
    "            x=0.15,\n",
    "            bgcolor=\"rgba(0,0,0,0)\",\n",
    "            font=dict(size=16, color=\"#003366\"),\n",
    "        ),\n",
    "        title=\"\",\n",
    "        xaxis=dict(\n",
    "            tickfont=dict(size=16),\n",
    "            title=\"Minimum degree for selected genes\",\n",
    "        ),\n",
    "        yaxis=dict(\n",
    "            tickfont=dict(size=16),\n",
    "            tickmode=\"linear\",\n",
    "            # tick0=3,\n",
    "            # dtick=1,\n",
    "            title=\"Number of communities\",\n",
    "        ),\n",
    "        font=dict(size=16),\n",
    "    )\n",
    "    sbm_fig.update_traces(line_width=5, marker_size=12, error_y=dict(width=5))\n",
    "    sbm_fig.show()"
   ]
  },
  {
   "cell_type": "markdown",
   "id": "138bc6b8",
   "metadata": {},
   "source": [
    "## Combine the community sizes for Leiden and hSBM"
   ]
  },
  {
   "cell_type": "code",
   "execution_count": 90,
   "id": "8e601171",
   "metadata": {},
   "outputs": [
    {
     "data": {
      "application/vnd.plotly.v1+json": {
       "config": {
        "plotlyServerURL": "https://plot.ly"
       },
       "data": [
        {
         "error_y": {
          "array": {
           "bdata": "AAAAAAAAAAAAAAAAAAAAAAAAAAAAAAAAAAAAAAAAAAAAAAAAAAAAAAAAAAAAAAAAAAAAAAAAAAAAAAAAAAAAAAAAAAAAAAAAAAAAAAAAAAAAAAAAAAAAAAAAAAAAAAAAAAAAAAAAAAAAAAAAAAAAAAAAAAAAAAAAAAAAAAAAAAAAAAAAAAAAAAAAAAAAAAAAAAAAAAAAAAAAAAAAAAAAAAAAAAAAAAAAAAAAAAAAAAAAAAAAAAAAAAAAAAAAAAAAAAAAAAAAAAAAAAAAAAAAAAAAAAAAAAAAAAAAAAAAAAAAAAAAAAAAAAAAAAAAAAAAAAAAAAAAAAAAAAAAAAAAAAAAAAAAAAAAAAAAAAAAAAAAAAAAAAAAAA==",
           "dtype": "f8"
          },
          "width": 5
         },
         "hovertemplate": "Type=Control<br>TF=%{x}<br>Size_mean=%{y}<extra></extra>",
         "legendgroup": "Control",
         "line": {
          "color": "#DC3912",
          "dash": "solid",
          "width": 5
         },
         "marker": {
          "size": 12,
          "symbol": "circle"
         },
         "mode": "lines+markers",
         "name": "Control",
         "orientation": "v",
         "showlegend": true,
         "type": "scatter",
         "x": {
          "bdata": "BAQEBAQDAwMDAwcHBwcHCQkJCQkFBQUFBQgICAgIBgYGBgY=",
          "dtype": "i1"
         },
         "xaxis": "x",
         "y": {
          "bdata": "AAAAAAAA8D8AAAAAAADwPwAAAAAAAPA/AAAAAAAA8D8AAAAAAADwPwAAAAAAAPA/AAAAAAAA8D8AAAAAAADwPwAAAAAAAPA/AAAAAAAA8D8AAAAAAADwPwAAAAAAAPA/AAAAAAAA8D8AAAAAAADwPwAAAAAAAPA/AAAAAAAA8D8AAAAAAADwPwAAAAAAAPA/AAAAAAAA8D8AAAAAAADwPwAAAAAAAPA/AAAAAAAA8D8AAAAAAADwPwAAAAAAAPA/AAAAAAAA8D8AAAAAAADwPwAAAAAAAPA/AAAAAAAA8D8AAAAAAADwPwAAAAAAAPA/AAAAAAAA8D8AAAAAAADwPwAAAAAAAPA/AAAAAAAA8D8AAAAAAADwPw==",
          "dtype": "f8"
         },
         "yaxis": "y"
        },
        {
         "error_y": {
          "array": {
           "bdata": "AAAAAAAAAAAAAAAAAAAAAAAAAAAAAAAAAAAAAAAAAAAAAAAAAAAAAAAAAAAAAAAAAAAAAAAAAAA=",
           "dtype": "f8"
          },
          "width": 5
         },
         "hovertemplate": "Type=Experiment<br>TF=%{x}<br>Size_mean=%{y}<extra></extra>",
         "legendgroup": "Experiment",
         "line": {
          "color": "#3366CC",
          "dash": "solid",
          "width": 5
         },
         "marker": {
          "size": 12,
          "symbol": "circle"
         },
         "mode": "lines+markers",
         "name": "Experiment",
         "orientation": "v",
         "showlegend": true,
         "type": "scatter",
         "x": {
          "bdata": "BAMHCQUIBg==",
          "dtype": "i1"
         },
         "xaxis": "x",
         "y": {
          "bdata": "AAAAAAAA8D8AAAAAAADwPwAAAAAAAPA/AAAAAAAA8D8AAAAAAADwPwAAAAAAAPA/AAAAAAAA8D8=",
          "dtype": "f8"
         },
         "yaxis": "y"
        },
        {
         "error_y": {
          "array": {
           "bdata": "ZiutHdRs1D9mK60d1GzUP2YrrR3UbNQ/ZiutHdRs1D87SjQBVjTmPztKNAFWNOY/O0o0AVY05j87SjQBVjTmPztKNAFWNOY/O0o0AVY05j87SjQBVjTmPztKNAFWNOY/Zvr+3X0r3j9m+v7dfSveP2b6/t19K94/Zvr+3X0r3j+s5j/eaf3lP6zmP95p/eU/rOY/3mn95T+s5j/eaf3lP6INhu4G2No/og2G7gbY2j+iDYbuBtjaP6INhu4G2No/gwUWjhEx5D+DBRaOETHkP4MFFo4RMeQ/gwUWjhEx5D8=",
           "dtype": "f8"
          },
          "width": 5
         },
         "hovertemplate": "Type=Control<br>TF=%{x}<br>ModNum_mean=%{y}<extra></extra>",
         "legendgroup": "Control",
         "line": {
          "color": "#DC3912",
          "dash": "solid",
          "width": 5
         },
         "marker": {
          "size": 12,
          "symbol": "circle"
         },
         "mode": "lines+markers",
         "name": "Control",
         "orientation": "v",
         "showlegend": false,
         "type": "scatter",
         "x": [
          "3",
          "3",
          "3",
          "3",
          "4",
          "4",
          "4",
          "4",
          "5",
          "5",
          "5",
          "5",
          "6",
          "6",
          "6",
          "6",
          "7",
          "7",
          "7",
          "7",
          "8",
          "8",
          "8",
          "8",
          "9",
          "9",
          "9",
          "9"
         ],
         "xaxis": "x",
         "y": {
          "bdata": "VVVVVVW1QEBVVVVVVbVAQFVVVVVVtUBAVVVVVVW1QEBWVVVVVZVAQFZVVVVVlUBAVlVVVVWVQEBWVVVVVZVAQFZVVVVVlUBAVlVVVVWVQEBWVVVVVZVAQFZVVVVVlUBAq6qqqqqqQECrqqqqqqpAQKuqqqqqqkBAq6qqqqqqQEAAAAAAAGBAQAAAAAAAYEBAAAAAAABgQEAAAAAAAGBAQKqqqqqqSkBAqqqqqqpKQECqqqqqqkpAQKqqqqqqSkBAAAAAAABgQEAAAAAAAGBAQAAAAAAAYEBAAAAAAABgQEA=",
          "dtype": "f8"
         },
         "yaxis": "y"
        },
        {
         "error_y": {
          "array": {
           "bdata": "AAAAAAAA+H8AAAAAAAD4fwAAAAAAAPh/AAAAAAAA+H8AAAAAAAD4fwAAAAAAAPh/AAAAAAAA+H8=",
           "dtype": "f8"
          },
          "width": 5
         },
         "hovertemplate": "Type=Experiment<br>TF=%{x}<br>ModNum_mean=%{y}<extra></extra>",
         "legendgroup": "Experiment",
         "line": {
          "color": "#3366CC",
          "dash": "solid",
          "width": 5
         },
         "marker": {
          "size": 12,
          "symbol": "circle"
         },
         "mode": "lines+markers",
         "name": "Experiment",
         "orientation": "v",
         "showlegend": false,
         "type": "scatter",
         "x": [
          "3",
          "4",
          "5",
          "6",
          "7",
          "8",
          "9"
         ],
         "xaxis": "x",
         "y": {
          "bdata": "AAAAAACAQEAAAAAAAIBAQAAAAAAAgEBAq6qqqqqqQECrqqqqqipAQFVVVVVVVUBAAAAAAAAAP0A=",
          "dtype": "f8"
         },
         "yaxis": "y"
        }
       ],
       "layout": {
        "annotations": [
         {
          "font": {
           "color": "#003366",
           "size": 16
          },
          "showarrow": false,
          "text": "SBM",
          "x": 2.5,
          "y": 35
         },
         {
          "font": {
           "color": "#003366",
           "size": 16
          },
          "showarrow": false,
          "text": "Leiden",
          "x": 2.5,
          "y": 20
         }
        ],
        "font": {
         "size": 16
        },
        "height": 600,
        "legend": {
         "bgcolor": "rgba(0,0,0,0)",
         "font": {
          "color": "#003366",
          "size": 16
         },
         "orientation": "h",
         "title": {
          "text": "Type"
         },
         "tracegroupgap": 0,
         "x": 0.5,
         "xanchor": "center",
         "y": 0.4,
         "yanchor": "bottom"
        },
        "showlegend": true,
        "template": {
         "data": {
          "bar": [
           {
            "error_x": {
             "color": "rgb(51,51,51)"
            },
            "error_y": {
             "color": "rgb(51,51,51)"
            },
            "marker": {
             "line": {
              "color": "rgb(237,237,237)",
              "width": 0.5
             },
             "pattern": {
              "fillmode": "overlay",
              "size": 10,
              "solidity": 0.2
             }
            },
            "type": "bar"
           }
          ],
          "barpolar": [
           {
            "marker": {
             "line": {
              "color": "rgb(237,237,237)",
              "width": 0.5
             },
             "pattern": {
              "fillmode": "overlay",
              "size": 10,
              "solidity": 0.2
             }
            },
            "type": "barpolar"
           }
          ],
          "carpet": [
           {
            "aaxis": {
             "endlinecolor": "rgb(51,51,51)",
             "gridcolor": "white",
             "linecolor": "white",
             "minorgridcolor": "white",
             "startlinecolor": "rgb(51,51,51)"
            },
            "baxis": {
             "endlinecolor": "rgb(51,51,51)",
             "gridcolor": "white",
             "linecolor": "white",
             "minorgridcolor": "white",
             "startlinecolor": "rgb(51,51,51)"
            },
            "type": "carpet"
           }
          ],
          "choropleth": [
           {
            "colorbar": {
             "outlinewidth": 0,
             "tickcolor": "rgb(237,237,237)",
             "ticklen": 6,
             "ticks": "inside"
            },
            "type": "choropleth"
           }
          ],
          "contour": [
           {
            "colorbar": {
             "outlinewidth": 0,
             "tickcolor": "rgb(237,237,237)",
             "ticklen": 6,
             "ticks": "inside"
            },
            "colorscale": [
             [
              0,
              "rgb(20,44,66)"
             ],
             [
              1,
              "rgb(90,179,244)"
             ]
            ],
            "type": "contour"
           }
          ],
          "contourcarpet": [
           {
            "colorbar": {
             "outlinewidth": 0,
             "tickcolor": "rgb(237,237,237)",
             "ticklen": 6,
             "ticks": "inside"
            },
            "type": "contourcarpet"
           }
          ],
          "heatmap": [
           {
            "colorbar": {
             "outlinewidth": 0,
             "tickcolor": "rgb(237,237,237)",
             "ticklen": 6,
             "ticks": "inside"
            },
            "colorscale": [
             [
              0,
              "rgb(20,44,66)"
             ],
             [
              1,
              "rgb(90,179,244)"
             ]
            ],
            "type": "heatmap"
           }
          ],
          "histogram": [
           {
            "marker": {
             "pattern": {
              "fillmode": "overlay",
              "size": 10,
              "solidity": 0.2
             }
            },
            "type": "histogram"
           }
          ],
          "histogram2d": [
           {
            "colorbar": {
             "outlinewidth": 0,
             "tickcolor": "rgb(237,237,237)",
             "ticklen": 6,
             "ticks": "inside"
            },
            "colorscale": [
             [
              0,
              "rgb(20,44,66)"
             ],
             [
              1,
              "rgb(90,179,244)"
             ]
            ],
            "type": "histogram2d"
           }
          ],
          "histogram2dcontour": [
           {
            "colorbar": {
             "outlinewidth": 0,
             "tickcolor": "rgb(237,237,237)",
             "ticklen": 6,
             "ticks": "inside"
            },
            "colorscale": [
             [
              0,
              "rgb(20,44,66)"
             ],
             [
              1,
              "rgb(90,179,244)"
             ]
            ],
            "type": "histogram2dcontour"
           }
          ],
          "mesh3d": [
           {
            "colorbar": {
             "outlinewidth": 0,
             "tickcolor": "rgb(237,237,237)",
             "ticklen": 6,
             "ticks": "inside"
            },
            "type": "mesh3d"
           }
          ],
          "parcoords": [
           {
            "line": {
             "colorbar": {
              "outlinewidth": 0,
              "tickcolor": "rgb(237,237,237)",
              "ticklen": 6,
              "ticks": "inside"
             }
            },
            "type": "parcoords"
           }
          ],
          "pie": [
           {
            "automargin": true,
            "type": "pie"
           }
          ],
          "scatter": [
           {
            "fillpattern": {
             "fillmode": "overlay",
             "size": 10,
             "solidity": 0.2
            },
            "type": "scatter"
           }
          ],
          "scatter3d": [
           {
            "line": {
             "colorbar": {
              "outlinewidth": 0,
              "tickcolor": "rgb(237,237,237)",
              "ticklen": 6,
              "ticks": "inside"
             }
            },
            "marker": {
             "colorbar": {
              "outlinewidth": 0,
              "tickcolor": "rgb(237,237,237)",
              "ticklen": 6,
              "ticks": "inside"
             }
            },
            "type": "scatter3d"
           }
          ],
          "scattercarpet": [
           {
            "marker": {
             "colorbar": {
              "outlinewidth": 0,
              "tickcolor": "rgb(237,237,237)",
              "ticklen": 6,
              "ticks": "inside"
             }
            },
            "type": "scattercarpet"
           }
          ],
          "scattergeo": [
           {
            "marker": {
             "colorbar": {
              "outlinewidth": 0,
              "tickcolor": "rgb(237,237,237)",
              "ticklen": 6,
              "ticks": "inside"
             }
            },
            "type": "scattergeo"
           }
          ],
          "scattergl": [
           {
            "marker": {
             "colorbar": {
              "outlinewidth": 0,
              "tickcolor": "rgb(237,237,237)",
              "ticklen": 6,
              "ticks": "inside"
             }
            },
            "type": "scattergl"
           }
          ],
          "scattermap": [
           {
            "marker": {
             "colorbar": {
              "outlinewidth": 0,
              "tickcolor": "rgb(237,237,237)",
              "ticklen": 6,
              "ticks": "inside"
             }
            },
            "type": "scattermap"
           }
          ],
          "scattermapbox": [
           {
            "marker": {
             "colorbar": {
              "outlinewidth": 0,
              "tickcolor": "rgb(237,237,237)",
              "ticklen": 6,
              "ticks": "inside"
             }
            },
            "type": "scattermapbox"
           }
          ],
          "scatterpolar": [
           {
            "marker": {
             "colorbar": {
              "outlinewidth": 0,
              "tickcolor": "rgb(237,237,237)",
              "ticklen": 6,
              "ticks": "inside"
             }
            },
            "type": "scatterpolar"
           }
          ],
          "scatterpolargl": [
           {
            "marker": {
             "colorbar": {
              "outlinewidth": 0,
              "tickcolor": "rgb(237,237,237)",
              "ticklen": 6,
              "ticks": "inside"
             }
            },
            "type": "scatterpolargl"
           }
          ],
          "scatterternary": [
           {
            "marker": {
             "colorbar": {
              "outlinewidth": 0,
              "tickcolor": "rgb(237,237,237)",
              "ticklen": 6,
              "ticks": "inside"
             }
            },
            "type": "scatterternary"
           }
          ],
          "surface": [
           {
            "colorbar": {
             "outlinewidth": 0,
             "tickcolor": "rgb(237,237,237)",
             "ticklen": 6,
             "ticks": "inside"
            },
            "colorscale": [
             [
              0,
              "rgb(20,44,66)"
             ],
             [
              1,
              "rgb(90,179,244)"
             ]
            ],
            "type": "surface"
           }
          ],
          "table": [
           {
            "cells": {
             "fill": {
              "color": "rgb(237,237,237)"
             },
             "line": {
              "color": "white"
             }
            },
            "header": {
             "fill": {
              "color": "rgb(217,217,217)"
             },
             "line": {
              "color": "white"
             }
            },
            "type": "table"
           }
          ]
         },
         "layout": {
          "annotationdefaults": {
           "arrowhead": 0,
           "arrowwidth": 1
          },
          "autotypenumbers": "strict",
          "coloraxis": {
           "colorbar": {
            "outlinewidth": 0,
            "tickcolor": "rgb(237,237,237)",
            "ticklen": 6,
            "ticks": "inside"
           }
          },
          "colorscale": {
           "sequential": [
            [
             0,
             "rgb(20,44,66)"
            ],
            [
             1,
             "rgb(90,179,244)"
            ]
           ],
           "sequentialminus": [
            [
             0,
             "rgb(20,44,66)"
            ],
            [
             1,
             "rgb(90,179,244)"
            ]
           ]
          },
          "colorway": [
           "#F8766D",
           "#A3A500",
           "#00BF7D",
           "#00B0F6",
           "#E76BF3"
          ],
          "font": {
           "color": "rgb(51,51,51)"
          },
          "geo": {
           "bgcolor": "white",
           "lakecolor": "white",
           "landcolor": "rgb(237,237,237)",
           "showlakes": true,
           "showland": true,
           "subunitcolor": "white"
          },
          "hoverlabel": {
           "align": "left"
          },
          "hovermode": "closest",
          "paper_bgcolor": "white",
          "plot_bgcolor": "rgb(237,237,237)",
          "polar": {
           "angularaxis": {
            "gridcolor": "white",
            "linecolor": "white",
            "showgrid": true,
            "tickcolor": "rgb(51,51,51)",
            "ticks": "outside"
           },
           "bgcolor": "rgb(237,237,237)",
           "radialaxis": {
            "gridcolor": "white",
            "linecolor": "white",
            "showgrid": true,
            "tickcolor": "rgb(51,51,51)",
            "ticks": "outside"
           }
          },
          "scene": {
           "xaxis": {
            "backgroundcolor": "rgb(237,237,237)",
            "gridcolor": "white",
            "gridwidth": 2,
            "linecolor": "white",
            "showbackground": true,
            "showgrid": true,
            "tickcolor": "rgb(51,51,51)",
            "ticks": "outside",
            "zerolinecolor": "white"
           },
           "yaxis": {
            "backgroundcolor": "rgb(237,237,237)",
            "gridcolor": "white",
            "gridwidth": 2,
            "linecolor": "white",
            "showbackground": true,
            "showgrid": true,
            "tickcolor": "rgb(51,51,51)",
            "ticks": "outside",
            "zerolinecolor": "white"
           },
           "zaxis": {
            "backgroundcolor": "rgb(237,237,237)",
            "gridcolor": "white",
            "gridwidth": 2,
            "linecolor": "white",
            "showbackground": true,
            "showgrid": true,
            "tickcolor": "rgb(51,51,51)",
            "ticks": "outside",
            "zerolinecolor": "white"
           }
          },
          "shapedefaults": {
           "fillcolor": "black",
           "line": {
            "width": 0
           },
           "opacity": 0.3
          },
          "ternary": {
           "aaxis": {
            "gridcolor": "white",
            "linecolor": "white",
            "showgrid": true,
            "tickcolor": "rgb(51,51,51)",
            "ticks": "outside"
           },
           "baxis": {
            "gridcolor": "white",
            "linecolor": "white",
            "showgrid": true,
            "tickcolor": "rgb(51,51,51)",
            "ticks": "outside"
           },
           "bgcolor": "rgb(237,237,237)",
           "caxis": {
            "gridcolor": "white",
            "linecolor": "white",
            "showgrid": true,
            "tickcolor": "rgb(51,51,51)",
            "ticks": "outside"
           }
          },
          "xaxis": {
           "automargin": true,
           "gridcolor": "white",
           "linecolor": "white",
           "showgrid": true,
           "tickcolor": "rgb(51,51,51)",
           "ticks": "outside",
           "title": {
            "standoff": 15
           },
           "zerolinecolor": "white"
          },
          "yaxis": {
           "automargin": true,
           "gridcolor": "white",
           "linecolor": "white",
           "showgrid": true,
           "tickcolor": "rgb(51,51,51)",
           "ticks": "outside",
           "title": {
            "standoff": 15
           },
           "zerolinecolor": "white"
          }
         }
        },
        "title": {
         "text": ""
        },
        "xaxis": {
         "anchor": "y",
         "domain": [
          0,
          1
         ],
         "tickfont": {
          "size": 16
         },
         "title": {
          "text": "Minimum degree for selected genes"
         }
        },
        "yaxis": {
         "anchor": "x",
         "domain": [
          0,
          1
         ],
         "dtick": 2,
         "tick0": 10,
         "tickfont": {
          "size": 16
         },
         "tickmode": "linear",
         "title": {
          "text": "Number of communities"
         }
        }
       }
      }
     },
     "metadata": {},
     "output_type": "display_data"
    }
   ],
   "source": [
    "sbm_fig = sbm_fig.add_traces(leid_fig.data)\n",
    "sbm_fig = sbm_fig.update_layout(\n",
    "    legend=dict(\n",
    "        orientation=\"h\",\n",
    "        title=\"Type\",\n",
    "        yanchor=\"bottom\",\n",
    "        y=0.4,\n",
    "        xanchor=\"center\",\n",
    "        x=0.5,\n",
    "        bgcolor=\"rgba(0,0,0,0)\",\n",
    "        font=dict(size=16, color=\"#003366\"),\n",
    "    ),\n",
    "    xaxis=dict(\n",
    "        tickfont=dict(size=16),\n",
    "        title=\"Minimum degree for selected genes\",\n",
    "    ),\n",
    "    title=\"\",\n",
    "    yaxis=dict(\n",
    "        tickmode=\"linear\",\n",
    "        tick0=10,\n",
    "        dtick=2,\n",
    "    ),\n",
    "    showlegend=True,\n",
    "    font=dict(size=16),\n",
    ")\n",
    "sbm_fig = sbm_fig.update_traces(\n",
    "    line_width=5, marker_size=12, error_y=dict(width=5))\n",
    "legend_shown = {}\n",
    "for trace in sbm_fig.data:\n",
    "    if trace.name in legend_shown:\n",
    "        trace.showlegend = False\n",
    "    else:\n",
    "        trace.showlegend = True\n",
    "        legend_shown[trace.name] = True\n",
    "\n",
    "sbm_fig.add_annotation(x=2.5, y=35, text=\"SBM\",\n",
    "                       showarrow=False, font=dict(size=16, color=\"#003366\"))\n",
    "sbm_fig.add_annotation(x=2.5, y=20, text=\"Leiden\",\n",
    "                       showarrow=False, font=dict(size=16, color=\"#003366\"))\n",
    "\n",
    "sbm_fig.show()"
   ]
  },
  {
   "cell_type": "markdown",
   "id": "86f1faaa",
   "metadata": {},
   "source": [
    "# Compute ModCon and MEV\n",
    "\n",
    "This part is needed to extract the relevant genes across the communities"
   ]
  },
  {
   "cell_type": "code",
   "execution_count": 91,
   "id": "f8b82c0f",
   "metadata": {},
   "outputs": [],
   "source": [
    "# Define a worker function for parallel processing\n",
    "def worker(arg):\n",
    "    obj, methname = arg[:2]\n",
    "    _ = getattr(obj, methname)()\n",
    "    return obj"
   ]
  },
  {
   "cell_type": "code",
   "execution_count": 92,
   "id": "11a17b19",
   "metadata": {},
   "outputs": [],
   "source": [
    "\n",
    "results = pool.map(worker, ((exp, \"get_ModCon\") for exp in h_exps.values()))\n",
    "h_exps = {exp.extract_tf_number(exp.name): exp for exp in results}\n",
    "\n",
    "for key, exp in h_exps.items():\n",
    "    sort_col = \"ModCon_{}_gt\".format(exp.type)\n",
    "    exp.mevsMut, _ = exp.get_mevs(\n",
    "        tpms=mut_df, modCon=exp.gt_modCon, sort_col=sort_col, num_genes=100, verbose=False)"
   ]
  },
  {
   "cell_type": "code",
   "execution_count": 93,
   "id": "9f082624",
   "metadata": {},
   "outputs": [
    {
     "name": "stdout",
     "output_type": "stream",
     "text": [
      "### ModCon for control #1\n",
      "### ModCon for control #2\n",
      "### ModCon for control #3\n",
      "### ModCon for control #4\n",
      "### ModCon for control #5\n",
      "### MEV for control #1\n",
      "### MEV for control #2\n",
      "### MEV for control #3\n",
      "### MEV for control #4\n",
      "### MEV for control #5\n"
     ]
    }
   ],
   "source": [
    "# Compute the ModCon and MEV for controls\n",
    "# ModCon\n",
    "for key in ctrl_exps.keys():\n",
    "    print(f\"### ModCon for control #{key}\")\n",
    "    results = pool.map(worker, ((exp, \"get_ModCon\")\n",
    "                       for exp in ctrl_exps[key][\"exps\"].values()))\n",
    "    ctrl_exps[key][\"exps\"] = {exp.extract_tf_number(\n",
    "        exp.name): exp for exp in results}\n",
    "\n",
    "# MEV\n",
    "for key in ctrl_exps.keys():\n",
    "    print(f\"### MEV for control #{key}\")\n",
    "    for key, exp in ctrl_exps[key][\"exps\"].items():\n",
    "        sort_col = f\"ModCon_{exp.type}_gt\"\n",
    "        exp.mevsMut, _ = exp.get_mevs(\n",
    "            tpms=mut_df, modCon=exp.gt_modCon, sort_col=sort_col, num_genes=100, verbose=False)"
   ]
  },
  {
   "cell_type": "markdown",
   "id": "e5648479",
   "metadata": {},
   "source": [
    "# Extract the emerging TFs from the controls \n",
    "\n",
    "This is the part from where we extracted a subset of 98 TFs in the original paper of selective edge pruning"
   ]
  },
  {
   "cell_type": "code",
   "execution_count": 94,
   "id": "c3edcafa",
   "metadata": {},
   "outputs": [],
   "source": [
    "def gene_sel_by_mev(exp, mut_df: pd.DataFrame, exp_label=\"\", show_figs=True, tf_list=[]):\n",
    "    all_exps = []\n",
    "    for num_genes in range(25, 201, 25):\n",
    "        exp_genes = []\n",
    "        for modCon in exp.gt_modCon.values():\n",
    "            top_n = modCon.sort_values(by=[\"ModCon_{}_gt\".format(\n",
    "                exp.type)], ascending=False).index.values[:num_genes]\n",
    "            exp_genes.extend(top_n)\n",
    "\n",
    "        # add to the global exps\n",
    "        sel_df = mut_df[mut_df.index.isin(exp_genes)]\n",
    "        mut_0 = sel_df[sel_df[\"count\"] > 0].shape[0]\n",
    "        mut_5 = sel_df[sel_df[\"count\"] >= 5].shape[0]\n",
    "        mut_10 = sel_df[sel_df[\"count\"] >= 10].shape[0]\n",
    "\n",
    "        # tf exploration\n",
    "        tf_used = set(exp_genes) & set(tf_list)\n",
    "        tf_used_mut = sel_df[sel_df[\"count\"] > 0]\n",
    "        tf_used_mut = tf_used_mut[tf_used_mut.index.isin(\n",
    "            list(tf_used))].shape[0]\n",
    "\n",
    "        all_exps.append((len(exp_genes), mut_0, mut_5, mut_10,\n",
    "                        len(tf_used), tf_used_mut, str(num_genes)))\n",
    "\n",
    "    genes_stats = pd.DataFrame(all_exps, columns=[\n",
    "                               \"#Genes\", \"#Mutated >0\", \"#Mutated >5\", \"#Mutated >10\", \"#TF\", \"#Mutated TF\", \"Exp\"])\n",
    "\n",
    "    metrics_cols = genes_stats.columns[:-1]\n",
    "    remap_cols = {col: col.replace(\"#\", \"%\") for col in metrics_cols}\n",
    "    prct_df = pd.concat(\n",
    "        [genes_stats[\"Exp\"], genes_stats[metrics_cols].div(genes_stats[\"#Genes\"].values, axis=0).multiply(100).rename(columns=remap_cols)], axis=1\n",
    "    )\n",
    "\n",
    "    if show_figs:\n",
    "        # Proportion\n",
    "        fig = px.bar(\n",
    "            prct_df,\n",
    "            x=\"Exp\",\n",
    "            y=list(remap_cols.values()),\n",
    "            barmode=\"group\",\n",
    "            title=\"{}. Proportion of genes included when different #num selected by ModCon\".format(\n",
    "                exp_label),\n",
    "            height=600,\n",
    "            text_auto=True,\n",
    "        )\n",
    "        fig.show()\n",
    "\n",
    "        # Numbers\n",
    "        fig = px.bar(\n",
    "            genes_stats,\n",
    "            x=\"Exp\",\n",
    "            y=genes_stats.columns[:-1],\n",
    "            barmode=\"group\",\n",
    "            title=\"{}. Number of genes when different #num selected by ModCon\".format(\n",
    "                exp_label),\n",
    "            height=600,\n",
    "        )\n",
    "        fig.show()\n",
    "    return genes_stats, prct_df, exp_genes\n",
    "\n",
    "\n",
    "def tf_modCon_exps(exps, mut_df: pd.DataFrame, tf_range=None, tf_list=[]):\n",
    "    tf_changes = pd.DataFrame()\n",
    "\n",
    "    for tf in tf_range:\n",
    "        sel_exp = exps[tf]\n",
    "        genes_used, _, _ = gene_sel_by_mev(\n",
    "            sel_exp, mut_df=mut_df, exp_label=str(tf), show_figs=False, tf_list=tf_list)\n",
    "\n",
    "        remap_cols = {col: \"{}TF_{}\".format(tf, col) for col in [\n",
    "            \"#TF\", \"#Mutated TF\", \"Exp\"]}\n",
    "        dmy = genes_used[list(remap_cols.keys())].copy(deep=True)\n",
    "        dmy[\"TF_edges\"] = \"{}\".format(tf)\n",
    "        tf_changes = pd.concat(\n",
    "            [tf_changes, dmy],\n",
    "            axis=0,\n",
    "        )\n",
    "\n",
    "    return tf_changes"
   ]
  },
  {
   "cell_type": "code",
   "execution_count": 103,
   "id": "23b6c381",
   "metadata": {},
   "outputs": [],
   "source": [
    "# NOTE: You may need to update this\n",
    "used_tf = set(\n",
    "    exp_test.exps['standard_5K_4TF_hsbm'].nodes_df.index) & set(tf_list)\n",
    "\n",
    "tf_chgs_all_ctrls = []\n",
    "\n",
    "\n",
    "# Determine how many experiments with TFs were run\n",
    "tf_range = []\n",
    "for exp in exp_test.exps.values():\n",
    "    tf = exp.extract_tf_number(exp.name)\n",
    "    tf_range.append(tf)\n",
    "tf_range = sorted(set(tf_range))\n",
    "\n",
    "\n",
    "for key, val in ctrl_exps.items():\n",
    "    tf_chgs = tf_modCon_exps(\n",
    "        val[\"exps\"], mut_df=mut_df, tf_range=tf_range, tf_list=tf_list)\n",
    "    tf_chgs = tf_chgs[tf_chgs[\"Exp\"] == \"100\"]\n",
    "    tf_chgs[\"Type\"] = \"hCtrl{}\".format(key)\n",
    "    tf_chgs[\"Used_prct\"] = tf_chgs[\"#TF\"] / len(used_tf) * 100\n",
    "    # tf_chgs[\"Mut_prct\"] = tf_chgs[\"#Mutated TF\"] / len(used_tf) * 100 #used_tf which are mutated\n",
    "    tf_chgs_all_ctrls.append(tf_chgs)\n",
    "\n",
    "tf_chgs_all_ctrls = pd.concat(tf_chgs_all_ctrls, axis=0)\n",
    "\n",
    "# Generate the Exp Changes too\n",
    "tf_changes_exp = tf_modCon_exps(\n",
    "    h_exps, mut_df=mut_df, tf_range=tf_range, tf_list=tf_list)"
   ]
  },
  {
   "cell_type": "code",
   "execution_count": 104,
   "id": "8032b536",
   "metadata": {},
   "outputs": [],
   "source": [
    "# Process the information and get some stats\n",
    "\n",
    "# Control\n",
    "all_tf_chgs_stats = []\n",
    "for tf in tf_chgs_all_ctrls[\"TF_edges\"].unique():\n",
    "    sel_df = tf_chgs_all_ctrls[tf_chgs_all_ctrls[\"TF_edges\"] == tf]\n",
    "    all_tf_chgs_stats.append(\n",
    "        [\n",
    "            tf,\n",
    "            sel_df[\"Exp\"].values[0],\n",
    "            sel_df[\"Used_prct\"].median(axis=0),\n",
    "            sel_df[\"Used_prct\"].mean(axis=0),\n",
    "            sel_df[\"Used_prct\"].std(axis=0),\n",
    "            sel_df[\"#TF\"].median(axis=0),\n",
    "            sel_df[\"#TF\"].mean(axis=0),\n",
    "            sel_df[\"#TF\"].std(axis=0),\n",
    "            sel_df[\"#Mutated TF\"].median(axis=0),\n",
    "            sel_df[\"#Mutated TF\"].mean(axis=0),\n",
    "            sel_df[\"#Mutated TF\"].std(axis=0),\n",
    "        ]\n",
    "    )\n",
    "\n",
    "\n",
    "tf_chgs_stats_df = pd.DataFrame(\n",
    "    all_tf_chgs_stats,\n",
    "    columns=[\"TF_edges\", \"Exp\", \"Prct_median\", \"Prct_mean\", \"Prct_std\", \"#TF_median\",\n",
    "             \"#TF_mean\", \"#TF_std\", \"#Mutated median\", \"Mutated mean\", \"Mutated std\"],\n",
    ")\n",
    "tf_chgs_stats_df[\"Type\"] = \"Control\"\n",
    "\n",
    "# Experiment\n",
    "tf_changes_exp = tf_changes_exp[tf_changes_exp[\"Exp\"] == \"100\"]\n",
    "tf_changes_exp[\"Used_prct\"] = tf_changes_exp[\"#TF\"] / len(used_tf) * 100\n",
    "tf_changes_exp[\"Prct_median\"] = tf_changes_exp[\"Used_prct\"]\n",
    "tf_changes_exp[\"Prct_mean\"] = tf_changes_exp[\"Used_prct\"]\n",
    "tf_changes_exp[\"Prct_std\"] = 0\n",
    "tf_changes_exp[\"Type\"] = \"Experiment\"\n",
    "# tf_changes_exp[\"Mut_prct\"] = tf_changes_exp[\"#Mutated TF\"] / len(used_tf) * 100\n",
    "\n",
    "# Combine the two\n",
    "comb_chgs = pd.concat([tf_chgs_stats_df, tf_changes_exp], axis=0)"
   ]
  },
  {
   "cell_type": "code",
   "execution_count": 105,
   "id": "f421b234",
   "metadata": {},
   "outputs": [
    {
     "data": {
      "application/vnd.plotly.v1+json": {
       "config": {
        "plotlyServerURL": "https://plot.ly"
       },
       "data": [
        {
         "error_y": {
          "array": {
           "bdata": "AAAAAAAAAAAAAAAAAAAAAAAAAAAAAAAAAAAAAAAAAAAAAAAAAAAAAKj0l5t34/E8AAAAAAAAAAA=",
           "dtype": "f8"
          },
          "width": 5
         },
         "hovertemplate": "Type=Control<br>TF_edges=%{x}<br>Prct_mean=%{y}<extra></extra>",
         "legendgroup": "Control",
         "line": {
          "color": "#DC3912",
          "dash": "solid",
          "width": 5
         },
         "marker": {
          "size": 12,
          "symbol": "circle"
         },
         "mode": "lines+markers",
         "name": "Control",
         "orientation": "v",
         "showlegend": true,
         "type": "scatter",
         "x": [
          "3",
          "4",
          "5",
          "6",
          "7",
          "8",
          "9"
         ],
         "xaxis": "x",
         "y": {
          "bdata": "DnGVKWA+8D+WKWA+kF34P5YpYD6QXfg/uNeSQ1xlGkAfyC4sRkIxQP0z+E30dD5A9HRuryWHQkA=",
          "dtype": "f8"
         },
         "yaxis": "y"
        },
        {
         "error_y": {
          "array": {
           "bdata": "AAAAAAAAAAAAAAAAAAAAAAAAAAAAAAAAAAAAAAAAAAAAAAAAAAAAAAAAAAAAAAAAAAAAAAAAAAA=",
           "dtype": "f8"
          },
          "width": 5
         },
         "hovertemplate": "Type=Experiment<br>TF_edges=%{x}<br>Prct_mean=%{y}<extra></extra>",
         "legendgroup": "Experiment",
         "line": {
          "color": "#3366CC",
          "dash": "solid",
          "width": 5
         },
         "marker": {
          "size": 12,
          "symbol": "circle"
         },
         "mode": "lines+markers",
         "name": "Experiment",
         "orientation": "v",
         "showlegend": true,
         "type": "scatter",
         "x": [
          "3",
          "4",
          "5",
          "6",
          "7",
          "8",
          "9"
         ],
         "xaxis": "x",
         "y": {
          "bdata": "DnGVKWA+8D+WKWA+kF34P5YpYD6QXfg/uNeSQ1xlGkAfyC4sRkIxQPwz+E30dD5A9HRuryWHQkA=",
          "dtype": "f8"
         },
         "yaxis": "y"
        }
       ],
       "layout": {
        "font": {
         "size": 16
        },
        "height": 600,
        "legend": {
         "bgcolor": "rgba(0,0,0,0)",
         "font": {
          "size": 16
         },
         "orientation": "h",
         "title": {
          "text": "Type"
         },
         "tracegroupgap": 0,
         "x": 0.5,
         "xanchor": "center",
         "y": 0.18,
         "yanchor": "bottom"
        },
        "template": {
         "data": {
          "bar": [
           {
            "error_x": {
             "color": "rgb(51,51,51)"
            },
            "error_y": {
             "color": "rgb(51,51,51)"
            },
            "marker": {
             "line": {
              "color": "rgb(237,237,237)",
              "width": 0.5
             },
             "pattern": {
              "fillmode": "overlay",
              "size": 10,
              "solidity": 0.2
             }
            },
            "type": "bar"
           }
          ],
          "barpolar": [
           {
            "marker": {
             "line": {
              "color": "rgb(237,237,237)",
              "width": 0.5
             },
             "pattern": {
              "fillmode": "overlay",
              "size": 10,
              "solidity": 0.2
             }
            },
            "type": "barpolar"
           }
          ],
          "carpet": [
           {
            "aaxis": {
             "endlinecolor": "rgb(51,51,51)",
             "gridcolor": "white",
             "linecolor": "white",
             "minorgridcolor": "white",
             "startlinecolor": "rgb(51,51,51)"
            },
            "baxis": {
             "endlinecolor": "rgb(51,51,51)",
             "gridcolor": "white",
             "linecolor": "white",
             "minorgridcolor": "white",
             "startlinecolor": "rgb(51,51,51)"
            },
            "type": "carpet"
           }
          ],
          "choropleth": [
           {
            "colorbar": {
             "outlinewidth": 0,
             "tickcolor": "rgb(237,237,237)",
             "ticklen": 6,
             "ticks": "inside"
            },
            "type": "choropleth"
           }
          ],
          "contour": [
           {
            "colorbar": {
             "outlinewidth": 0,
             "tickcolor": "rgb(237,237,237)",
             "ticklen": 6,
             "ticks": "inside"
            },
            "colorscale": [
             [
              0,
              "rgb(20,44,66)"
             ],
             [
              1,
              "rgb(90,179,244)"
             ]
            ],
            "type": "contour"
           }
          ],
          "contourcarpet": [
           {
            "colorbar": {
             "outlinewidth": 0,
             "tickcolor": "rgb(237,237,237)",
             "ticklen": 6,
             "ticks": "inside"
            },
            "type": "contourcarpet"
           }
          ],
          "heatmap": [
           {
            "colorbar": {
             "outlinewidth": 0,
             "tickcolor": "rgb(237,237,237)",
             "ticklen": 6,
             "ticks": "inside"
            },
            "colorscale": [
             [
              0,
              "rgb(20,44,66)"
             ],
             [
              1,
              "rgb(90,179,244)"
             ]
            ],
            "type": "heatmap"
           }
          ],
          "histogram": [
           {
            "marker": {
             "pattern": {
              "fillmode": "overlay",
              "size": 10,
              "solidity": 0.2
             }
            },
            "type": "histogram"
           }
          ],
          "histogram2d": [
           {
            "colorbar": {
             "outlinewidth": 0,
             "tickcolor": "rgb(237,237,237)",
             "ticklen": 6,
             "ticks": "inside"
            },
            "colorscale": [
             [
              0,
              "rgb(20,44,66)"
             ],
             [
              1,
              "rgb(90,179,244)"
             ]
            ],
            "type": "histogram2d"
           }
          ],
          "histogram2dcontour": [
           {
            "colorbar": {
             "outlinewidth": 0,
             "tickcolor": "rgb(237,237,237)",
             "ticklen": 6,
             "ticks": "inside"
            },
            "colorscale": [
             [
              0,
              "rgb(20,44,66)"
             ],
             [
              1,
              "rgb(90,179,244)"
             ]
            ],
            "type": "histogram2dcontour"
           }
          ],
          "mesh3d": [
           {
            "colorbar": {
             "outlinewidth": 0,
             "tickcolor": "rgb(237,237,237)",
             "ticklen": 6,
             "ticks": "inside"
            },
            "type": "mesh3d"
           }
          ],
          "parcoords": [
           {
            "line": {
             "colorbar": {
              "outlinewidth": 0,
              "tickcolor": "rgb(237,237,237)",
              "ticklen": 6,
              "ticks": "inside"
             }
            },
            "type": "parcoords"
           }
          ],
          "pie": [
           {
            "automargin": true,
            "type": "pie"
           }
          ],
          "scatter": [
           {
            "fillpattern": {
             "fillmode": "overlay",
             "size": 10,
             "solidity": 0.2
            },
            "type": "scatter"
           }
          ],
          "scatter3d": [
           {
            "line": {
             "colorbar": {
              "outlinewidth": 0,
              "tickcolor": "rgb(237,237,237)",
              "ticklen": 6,
              "ticks": "inside"
             }
            },
            "marker": {
             "colorbar": {
              "outlinewidth": 0,
              "tickcolor": "rgb(237,237,237)",
              "ticklen": 6,
              "ticks": "inside"
             }
            },
            "type": "scatter3d"
           }
          ],
          "scattercarpet": [
           {
            "marker": {
             "colorbar": {
              "outlinewidth": 0,
              "tickcolor": "rgb(237,237,237)",
              "ticklen": 6,
              "ticks": "inside"
             }
            },
            "type": "scattercarpet"
           }
          ],
          "scattergeo": [
           {
            "marker": {
             "colorbar": {
              "outlinewidth": 0,
              "tickcolor": "rgb(237,237,237)",
              "ticklen": 6,
              "ticks": "inside"
             }
            },
            "type": "scattergeo"
           }
          ],
          "scattergl": [
           {
            "marker": {
             "colorbar": {
              "outlinewidth": 0,
              "tickcolor": "rgb(237,237,237)",
              "ticklen": 6,
              "ticks": "inside"
             }
            },
            "type": "scattergl"
           }
          ],
          "scattermap": [
           {
            "marker": {
             "colorbar": {
              "outlinewidth": 0,
              "tickcolor": "rgb(237,237,237)",
              "ticklen": 6,
              "ticks": "inside"
             }
            },
            "type": "scattermap"
           }
          ],
          "scattermapbox": [
           {
            "marker": {
             "colorbar": {
              "outlinewidth": 0,
              "tickcolor": "rgb(237,237,237)",
              "ticklen": 6,
              "ticks": "inside"
             }
            },
            "type": "scattermapbox"
           }
          ],
          "scatterpolar": [
           {
            "marker": {
             "colorbar": {
              "outlinewidth": 0,
              "tickcolor": "rgb(237,237,237)",
              "ticklen": 6,
              "ticks": "inside"
             }
            },
            "type": "scatterpolar"
           }
          ],
          "scatterpolargl": [
           {
            "marker": {
             "colorbar": {
              "outlinewidth": 0,
              "tickcolor": "rgb(237,237,237)",
              "ticklen": 6,
              "ticks": "inside"
             }
            },
            "type": "scatterpolargl"
           }
          ],
          "scatterternary": [
           {
            "marker": {
             "colorbar": {
              "outlinewidth": 0,
              "tickcolor": "rgb(237,237,237)",
              "ticklen": 6,
              "ticks": "inside"
             }
            },
            "type": "scatterternary"
           }
          ],
          "surface": [
           {
            "colorbar": {
             "outlinewidth": 0,
             "tickcolor": "rgb(237,237,237)",
             "ticklen": 6,
             "ticks": "inside"
            },
            "colorscale": [
             [
              0,
              "rgb(20,44,66)"
             ],
             [
              1,
              "rgb(90,179,244)"
             ]
            ],
            "type": "surface"
           }
          ],
          "table": [
           {
            "cells": {
             "fill": {
              "color": "rgb(237,237,237)"
             },
             "line": {
              "color": "white"
             }
            },
            "header": {
             "fill": {
              "color": "rgb(217,217,217)"
             },
             "line": {
              "color": "white"
             }
            },
            "type": "table"
           }
          ]
         },
         "layout": {
          "annotationdefaults": {
           "arrowhead": 0,
           "arrowwidth": 1
          },
          "autotypenumbers": "strict",
          "coloraxis": {
           "colorbar": {
            "outlinewidth": 0,
            "tickcolor": "rgb(237,237,237)",
            "ticklen": 6,
            "ticks": "inside"
           }
          },
          "colorscale": {
           "sequential": [
            [
             0,
             "rgb(20,44,66)"
            ],
            [
             1,
             "rgb(90,179,244)"
            ]
           ],
           "sequentialminus": [
            [
             0,
             "rgb(20,44,66)"
            ],
            [
             1,
             "rgb(90,179,244)"
            ]
           ]
          },
          "colorway": [
           "#F8766D",
           "#A3A500",
           "#00BF7D",
           "#00B0F6",
           "#E76BF3"
          ],
          "font": {
           "color": "rgb(51,51,51)"
          },
          "geo": {
           "bgcolor": "white",
           "lakecolor": "white",
           "landcolor": "rgb(237,237,237)",
           "showlakes": true,
           "showland": true,
           "subunitcolor": "white"
          },
          "hoverlabel": {
           "align": "left"
          },
          "hovermode": "closest",
          "paper_bgcolor": "white",
          "plot_bgcolor": "rgb(237,237,237)",
          "polar": {
           "angularaxis": {
            "gridcolor": "white",
            "linecolor": "white",
            "showgrid": true,
            "tickcolor": "rgb(51,51,51)",
            "ticks": "outside"
           },
           "bgcolor": "rgb(237,237,237)",
           "radialaxis": {
            "gridcolor": "white",
            "linecolor": "white",
            "showgrid": true,
            "tickcolor": "rgb(51,51,51)",
            "ticks": "outside"
           }
          },
          "scene": {
           "xaxis": {
            "backgroundcolor": "rgb(237,237,237)",
            "gridcolor": "white",
            "gridwidth": 2,
            "linecolor": "white",
            "showbackground": true,
            "showgrid": true,
            "tickcolor": "rgb(51,51,51)",
            "ticks": "outside",
            "zerolinecolor": "white"
           },
           "yaxis": {
            "backgroundcolor": "rgb(237,237,237)",
            "gridcolor": "white",
            "gridwidth": 2,
            "linecolor": "white",
            "showbackground": true,
            "showgrid": true,
            "tickcolor": "rgb(51,51,51)",
            "ticks": "outside",
            "zerolinecolor": "white"
           },
           "zaxis": {
            "backgroundcolor": "rgb(237,237,237)",
            "gridcolor": "white",
            "gridwidth": 2,
            "linecolor": "white",
            "showbackground": true,
            "showgrid": true,
            "tickcolor": "rgb(51,51,51)",
            "ticks": "outside",
            "zerolinecolor": "white"
           }
          },
          "shapedefaults": {
           "fillcolor": "black",
           "line": {
            "width": 0
           },
           "opacity": 0.3
          },
          "ternary": {
           "aaxis": {
            "gridcolor": "white",
            "linecolor": "white",
            "showgrid": true,
            "tickcolor": "rgb(51,51,51)",
            "ticks": "outside"
           },
           "baxis": {
            "gridcolor": "white",
            "linecolor": "white",
            "showgrid": true,
            "tickcolor": "rgb(51,51,51)",
            "ticks": "outside"
           },
           "bgcolor": "rgb(237,237,237)",
           "caxis": {
            "gridcolor": "white",
            "linecolor": "white",
            "showgrid": true,
            "tickcolor": "rgb(51,51,51)",
            "ticks": "outside"
           }
          },
          "xaxis": {
           "automargin": true,
           "gridcolor": "white",
           "linecolor": "white",
           "showgrid": true,
           "tickcolor": "rgb(51,51,51)",
           "ticks": "outside",
           "title": {
            "standoff": 15
           },
           "zerolinecolor": "white"
          },
          "yaxis": {
           "automargin": true,
           "gridcolor": "white",
           "linecolor": "white",
           "showgrid": true,
           "tickcolor": "rgb(51,51,51)",
           "ticks": "outside",
           "title": {
            "standoff": 15
           },
           "zerolinecolor": "white"
          }
         }
        },
        "title": {
         "text": ""
        },
        "xaxis": {
         "anchor": "y",
         "domain": [
          0,
          1
         ],
         "tickfont": {
          "size": 16
         },
         "title": {
          "text": "Minimum degree for selected genes"
         }
        },
        "yaxis": {
         "anchor": "x",
         "domain": [
          0,
          1
         ],
         "tickfont": {
          "size": 16
         },
         "title": {
          "text": "% of genes included"
         }
        }
       }
      }
     },
     "metadata": {},
     "output_type": "display_data"
    }
   ],
   "source": [
    "fig = px.line(\n",
    "    comb_chgs,\n",
    "    x=\"TF_edges\",\n",
    "    y=\"Prct_mean\",\n",
    "    error_y=\"Prct_std\",\n",
    "    color=\"Type\",\n",
    "    color_discrete_map=color_map,\n",
    "    markers=True,\n",
    "    title=\"% TF used in calculating the MEV\",\n",
    "    height=600,\n",
    ")\n",
    "fig.update_layout(\n",
    "    legend=dict(\n",
    "        orientation=\"h\",\n",
    "        # title=\"Type\",\n",
    "        yanchor=\"bottom\",\n",
    "        y=0.18,\n",
    "        xanchor=\"center\",\n",
    "        x=0.5,\n",
    "        bgcolor=\"rgba(0,0,0,0)\",\n",
    "        font=dict(size=16),\n",
    "    ),\n",
    "    title=\"\",\n",
    "    xaxis=dict(\n",
    "        tickfont=dict(size=16),\n",
    "        title_font=dict(\n",
    "            size=16,\n",
    "        ),\n",
    "        title=\"Minimum degree for selected genes\",\n",
    "    ),\n",
    "    yaxis=dict(\n",
    "        tickfont=dict(size=16),\n",
    "        title_font=dict(\n",
    "            size=16,\n",
    "        ),\n",
    "        title=\"% of genes included\",\n",
    "        # range=[0, 90],\n",
    "    ),\n",
    "    font=dict(size=16),\n",
    ")\n",
    "# fig = fig.update_yaxes(title_text=\"% of genes included\", range=[0, 105], tickfont=dict(size=14), title_font=dict(size=16))\n",
    "fig.update_traces(line_width=5, marker_size=12, error_y=dict(width=5))\n",
    "\n",
    "fig.show()"
   ]
  }
 ],
 "metadata": {
  "kernelspec": {
   "display_name": "test_iCoExpNet",
   "language": "python",
   "name": "python3"
  },
  "language_info": {
   "codemirror_mode": {
    "name": "ipython",
    "version": 3
   },
   "file_extension": ".py",
   "mimetype": "text/x-python",
   "name": "python",
   "nbconvert_exporter": "python",
   "pygments_lexer": "ipython3",
   "version": "3.11.13"
  }
 },
 "nbformat": 4,
 "nbformat_minor": 5
}
