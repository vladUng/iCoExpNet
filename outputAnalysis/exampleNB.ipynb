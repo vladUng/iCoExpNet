{
 "cells": [
  {
   "cell_type": "markdown",
   "id": "3d1c16f8",
   "metadata": {},
   "source": [
    "# Motivation \n",
    "\n",
    "The purpose of this Notebook is to analyse the test output "
   ]
  },
  {
   "cell_type": "code",
   "execution_count": 57,
   "id": "e6d80704",
   "metadata": {},
   "outputs": [
    {
     "name": "stdout",
     "output_type": "stream",
     "text": [
      "The autoreload extension is already loaded. To reload it, use:\n",
      "  %reload_ext autoreload\n"
     ]
    }
   ],
   "source": [
    "%load_ext autoreload\n",
    "import warnings\n",
    "warnings.simplefilter(action='ignore', category=FutureWarning)\n",
    "import pandas as pd\n",
    "import numpy as np\n",
    "import os\n",
    "import sys\n",
    "\n",
    "import plotly.express as px\n",
    "import plotly.io as pio\n",
    "import plotly.graph_objects as go\n",
    "import matplotlib.pyplot as plt\n",
    "\n",
    "import multiprocess as mp\n",
    "\n",
    "\n",
    "# own libraries\n",
    "sys.path.append('NetworkAnalysis/')\n",
    "\n",
    "from NetworkAnalysis.ExperimentSet import ExperimentSet\n",
    "from NetworkAnalysis import GraphHelper as gh\n",
    "from NetworkAnalysis.utilities import clustering as cs\n",
    "from NetworkAnalysis.utilities import sankey_consensus_plot as sky\n",
    "from NetworkAnalysis.utilities.helpers import save_fig, survival_plot\n",
    "from NetworkAnalysis.GraphToolExp import GraphToolExperiment as GtExp\n",
    "\n",
    "pio.templates.default = \"ggplot2\"\n",
    "\n",
    "pool = mp.Pool(mp.cpu_count())"
   ]
  },
  {
   "cell_type": "code",
   "execution_count": 58,
   "id": "120dd050",
   "metadata": {},
   "outputs": [],
   "source": [
    "results_path = \"../results/\"\n",
    "data_base = \"../data/\"\n",
    "base_path = \"../\"\n",
    "test_exps_path = \"results/test/\"\n",
    "test_cltrs_path = \"results/testCtrl/\"\n",
    "figures_path = \"../test_results/\"\n",
    "\n",
    "\n",
    "mut_df = pd.read_csv(f\"{data_base}/test_mutation_data.tsv\",\n",
    "                     sep=\"\\t\", index_col=\"gene\")\n",
    "\n",
    "# tf list\n",
    "tf_path = f\"{data_base}/TF_names_v_1.01.txt\"\n",
    "if os.path.exists(tf_path):\n",
    "    tf_list = np.genfromtxt(fname=tf_path, delimiter=\"\\t\",\n",
    "                            skip_header=1, dtype=\"str\")"
   ]
  },
  {
   "cell_type": "markdown",
   "id": "46da33a9",
   "metadata": {},
   "source": [
    "# Load experiments"
   ]
  },
  {
   "cell_type": "code",
   "execution_count": 59,
   "id": "df0bd2ca",
   "metadata": {},
   "outputs": [
    {
     "name": "stdout",
     "output_type": "stream",
     "text": [
      "##### Experiment labels:  dict_keys(['standard_5K_3TF_hsbm', 'standard_5K_4TF_hsbm'])\n",
      "Loading Graph-Tool for standard_5K_3TF_hsbm\n",
      "Loading Graph-Tool for standard_5K_4TF_hsbm\n"
     ]
    }
   ],
   "source": [
    "exp_test = ExperimentSet(\"test\", base_path=base_path, exp_path=test_exps_path,\n",
    "                         mut_df=mut_df, sel_sets=None, exp_type=\"iNet\")\n",
    "\n",
    "exps = {}\n",
    "# Compute some useful metadata for the experiments§\n",
    "for idx, exp in enumerate(exp_test.get_exps()):\n",
    "    if exp.sbm_method != \"hsbm\":  # or idx != 2:\n",
    "        continue\n",
    "\n",
    "    print(f\"Loading Graph-Tool for {exp.type}\")\n",
    "    exps[exp.type] = GtExp.from_pgcna_inet(exp, rel_path=\"\")\n",
    "    exps[exp.type].export_to_gephi(save=False)\n",
    "\n",
    "exp_test.exps = exps"
   ]
  },
  {
   "cell_type": "code",
   "execution_count": 60,
   "id": "79ecc708",
   "metadata": {},
   "outputs": [
    {
     "name": "stdout",
     "output_type": "stream",
     "text": [
      "##### Experiment labels:  dict_keys(['standard_5K_3TF_hsbm', 'standard_5K_4TF_hsbm'])\n",
      "##### Experiment labels:  dict_keys(['standard_5K_4TF_hsbm', 'standard_5K_3TF_hsbm'])\n",
      "##### Experiment labels:  dict_keys(['standard_5K_3TF_hsbm', 'standard_5K_4TF_hsbm'])\n",
      "##### Experiment labels:  dict_keys(['standard_5K_4TF_hsbm', 'standard_5K_3TF_hsbm'])\n",
      "##### Experiment labels:  dict_keys(['standard_5K_3TF_hsbm', 'standard_5K_4TF_hsbm'])\n"
     ]
    }
   ],
   "source": [
    "folders = next(os.walk(base_path + test_cltrs_path), (None, None, []))[1]\n",
    "args, test_ctrls = [], {}\n",
    "for folder in folders:\n",
    "    hCtrl_path = f\"{test_cltrs_path}/{folder}/\"\n",
    "    idx = int(folder.split(\"tctrl_\")[-1])\n",
    "    test_ctrls[idx] = ExperimentSet(\n",
    "        \"tCtrl\", base_path, hCtrl_path, mut_df, sel_sets=None, rel_path=\"../\", exp_type=\"iNet\")\n",
    "    test_ctrls[idx].export_to_gephi(save=False)"
   ]
  },
  {
   "cell_type": "markdown",
   "id": "2d1928bb",
   "metadata": {},
   "source": [
    "# Selective edge pruning\n",
    "\n",
    "\n",
    "* Work in progress * "
   ]
  }
 ],
 "metadata": {
  "kernelspec": {
   "display_name": "iNet_gt",
   "language": "python",
   "name": "python3"
  },
  "language_info": {
   "codemirror_mode": {
    "name": "ipython",
    "version": 3
   },
   "file_extension": ".py",
   "mimetype": "text/x-python",
   "name": "python",
   "nbconvert_exporter": "python",
   "pygments_lexer": "ipython3",
   "version": "3.12.2"
  }
 },
 "nbformat": 4,
 "nbformat_minor": 5
}
